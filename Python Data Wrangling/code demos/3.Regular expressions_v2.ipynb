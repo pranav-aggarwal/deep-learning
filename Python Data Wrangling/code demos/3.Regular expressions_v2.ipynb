{
 "cells": [
  {
   "cell_type": "markdown",
   "metadata": {},
   "source": [
    "# Regular expressions"
   ]
  },
  {
   "cell_type": "markdown",
   "metadata": {},
   "source": [
    "## Whats the purpose of regular expressions?\n",
    "\n",
    "Regular Expressions are extensively used for:\n",
    "       \n",
    "        1.To Extract insignts about the text ->  findall()\n",
    "        2.To Clean the text -> sub()"
   ]
  },
  {
   "cell_type": "markdown",
   "metadata": {},
   "source": [
    "Basic meta charecters used in regular expressions\n",
    "\n",
    "    . -> matches a single character\n",
    "    * -> matches zero or more occourrence of the previous charecter\n",
    "    + -> matches one or more occourrence of the previous charecter\n",
    "    ^ -> matches any character start of a string\n",
    "    $ -> matches any character end of a string\n",
    "    [] -> matches one of the set of characters within []\n",
    "    [a-z] -> matches on of the range of characters in lowercase alphabet\n",
    "    [^abc] -> matches a character that is not a, b, or c"
   ]
  },
  {
   "cell_type": "code",
   "execution_count": 2,
   "metadata": {},
   "outputs": [],
   "source": [
    "import re\n",
    "import pandas as pd"
   ]
  },
  {
   "cell_type": "code",
   "execution_count": 5,
   "metadata": {},
   "outputs": [],
   "source": [
    "text = 'Around 2500 patients are a taking part in clinical trails #Coronavirus'"
   ]
  },
  {
   "cell_type": "code",
   "execution_count": 9,
   "metadata": {},
   "outputs": [
    {
     "name": "stdout",
     "output_type": "stream",
     "text": [
      "Around 2500 patients are a taking part in clinical trails #Coronavirus\n"
     ]
    },
    {
     "data": {
      "text/plain": [
       "['round',\n",
       " 'patients',\n",
       " 'are',\n",
       " 'a',\n",
       " 'taking',\n",
       " 'part',\n",
       " 'in',\n",
       " 'clinical',\n",
       " 'trails',\n",
       " 'oronavirus']"
      ]
     },
     "execution_count": 9,
     "metadata": {},
     "output_type": "execute_result"
    }
   ],
   "source": [
    "print(text)\n",
    "re.findall('[a-z]+', text) # Find all sequency of lower case characters"
   ]
  },
  {
   "cell_type": "code",
   "execution_count": 8,
   "metadata": {},
   "outputs": [
    {
     "name": "stdout",
     "output_type": "stream",
     "text": [
      "Around 2500 patients are a taking part in clinical trails #Coronavirus\n"
     ]
    },
    {
     "data": {
      "text/plain": [
       "['Around',\n",
       " 'patients',\n",
       " 'are',\n",
       " 'a',\n",
       " 'taking',\n",
       " 'part',\n",
       " 'in',\n",
       " 'clinical',\n",
       " 'trails',\n",
       " 'Coronavirus']"
      ]
     },
     "execution_count": 8,
     "metadata": {},
     "output_type": "execute_result"
    }
   ],
   "source": [
    "print(text)\n",
    "re.findall('[a-zA-Z]+', text) # Find all sequency of lower & upper case characters"
   ]
  },
  {
   "cell_type": "code",
   "execution_count": 10,
   "metadata": {},
   "outputs": [
    {
     "name": "stdout",
     "output_type": "stream",
     "text": [
      "Around 2500 patients are a taking part in clinical trails #Coronavirus\n"
     ]
    },
    {
     "data": {
      "text/plain": [
       "[' 2500 ', ' ', ' ', ' ', ' ', ' ', ' ', ' ', ' #']"
      ]
     },
     "execution_count": 10,
     "metadata": {},
     "output_type": "execute_result"
    }
   ],
   "source": [
    "print(text)\n",
    "re.findall('[^a-zA-Z]+', text)"
   ]
  },
  {
   "cell_type": "markdown",
   "metadata": {},
   "source": [
    " Extended Regular Expressions:\n",
    " \n",
    "     \\d -> Any digit, equivalent to [0-9]\n",
    "     \\D -> Any non-digit, equivalent to [^0-9]\n",
    "    \\w -> Any alphanumeric, equivalent to [a-zA-Z0-9_]\n",
    "    \\W -> Non-alphanumeric, equivalent to [^a-zA-Z0-9_]\n",
    "    \\s -> Any whitespace character\n",
    "    \\S -> Any nonwhitespace character\n",
    "    \n",
    "    () -> Scoping for extraction\n",
    "    ? -> Make a pattern non greedy"
   ]
  },
  {
   "cell_type": "code",
   "execution_count": 11,
   "metadata": {},
   "outputs": [
    {
     "name": "stdout",
     "output_type": "stream",
     "text": [
      "Around 2500 patients are a taking part in clinical trails #Coronavirus\n"
     ]
    },
    {
     "data": {
      "text/plain": [
       "['Around',\n",
       " '2500',\n",
       " 'patients',\n",
       " 'are',\n",
       " 'a',\n",
       " 'taking',\n",
       " 'part',\n",
       " 'in',\n",
       " 'clinical',\n",
       " 'trails',\n",
       " 'Coronavirus']"
      ]
     },
     "execution_count": 11,
     "metadata": {},
     "output_type": "execute_result"
    }
   ],
   "source": [
    "print(text)\n",
    "re.findall('\\w+', text) # Find all sequency of word characters[a-zA-Z0-9_]"
   ]
  },
  {
   "cell_type": "code",
   "execution_count": 1,
   "metadata": {},
   "outputs": [],
   "source": [
    "text = \"The film Titanic was released in year 98 and was a hit till the year 2000 \\n5000 was the cost of the mobile\\ni baragined it to \""
   ]
  },
  {
   "cell_type": "code",
   "execution_count": 3,
   "metadata": {},
   "outputs": [
    {
     "name": "stdout",
     "output_type": "stream",
     "text": [
      "The film Titanic was released in year 98 and was a hit till the year 2000 \n",
      "5000 was the cost of the mobile\n",
      "i baragined it to \n"
     ]
    }
   ],
   "source": [
    "print(text)"
   ]
  },
  {
   "cell_type": "code",
   "execution_count": 6,
   "metadata": {},
   "outputs": [
    {
     "name": "stdout",
     "output_type": "stream",
     "text": [
      "['98', '2000']\n",
      "['5000']\n"
     ]
    }
   ],
   "source": [
    "for line in text.split(\"\\n\"):\n",
    "    patterns = re.findall(\"\\d+\",line)\n",
    "    if len(patterns)>0:\n",
    "        print(patterns)"
   ]
  },
  {
   "cell_type": "code",
   "execution_count": 18,
   "metadata": {},
   "outputs": [],
   "source": [
    "text = 'A message from csev@umich.edu to cwen@iupui.edu about meeting @2PM'"
   ]
  },
  {
   "cell_type": "code",
   "execution_count": 19,
   "metadata": {},
   "outputs": [
    {
     "data": {
      "text/plain": [
       "['csev@umich.edu', 'cwen@iupui.edu']"
      ]
     },
     "execution_count": 19,
     "metadata": {},
     "output_type": "execute_result"
    }
   ],
   "source": [
    "re.findall(\"\\S+@\\S+\", text)"
   ]
  },
  {
   "cell_type": "code",
   "execution_count": 20,
   "metadata": {},
   "outputs": [
    {
     "data": {
      "text/plain": [
       "[' @2PM']"
      ]
     },
     "execution_count": 20,
     "metadata": {},
     "output_type": "execute_result"
    }
   ],
   "source": [
    "re.findall(\"\\s+@\\S+\", text)"
   ]
  },
  {
   "cell_type": "code",
   "execution_count": 21,
   "metadata": {},
   "outputs": [
    {
     "data": {
      "text/plain": [
       "['umich.edu', 'iupui.edu']"
      ]
     },
     "execution_count": 21,
     "metadata": {},
     "output_type": "execute_result"
    }
   ],
   "source": [
    "re.findall(\"\\S+@(\\S+)\", text)"
   ]
  },
  {
   "cell_type": "code",
   "execution_count": 22,
   "metadata": {},
   "outputs": [
    {
     "data": {
      "text/plain": [
       "['csev', 'cwen']"
      ]
     },
     "execution_count": 22,
     "metadata": {},
     "output_type": "execute_result"
    }
   ],
   "source": [
    "re.findall(\"(\\S+)@\\S+\", text)"
   ]
  },
  {
   "cell_type": "markdown",
   "metadata": {},
   "source": [
    "#### Cleaning text using re.sub"
   ]
  },
  {
   "cell_type": "code",
   "execution_count": 37,
   "metadata": {},
   "outputs": [],
   "source": [
    "text = 'Around 2,500 patients are taking part in clinical trails #Coronavirus'"
   ]
  },
  {
   "cell_type": "code",
   "execution_count": 40,
   "metadata": {},
   "outputs": [
    {
     "name": "stdout",
     "output_type": "stream",
     "text": [
      "Around 2,500 patients are taking part in clinical trails #Coronavirus\n"
     ]
    },
    {
     "data": {
      "text/plain": [
       "'Around2500patientsaretakingpartinclinicaltrailsCoronavirus'"
      ]
     },
     "execution_count": 40,
     "metadata": {},
     "output_type": "execute_result"
    }
   ],
   "source": [
    "print(text)\n",
    "re.sub('[^\\w]', '', text) # or [\\W]"
   ]
  },
  {
   "cell_type": "code",
   "execution_count": 44,
   "metadata": {},
   "outputs": [
    {
     "name": "stdout",
     "output_type": "stream",
     "text": [
      "Around 2,500 patients are taking part in clinical trails #Coronavirus\n"
     ]
    },
    {
     "data": {
      "text/plain": [
       "'Around 2500 patients are taking part in clinical trails Coronavirus'"
      ]
     },
     "execution_count": 44,
     "metadata": {},
     "output_type": "execute_result"
    }
   ],
   "source": [
    "print(text)\n",
    "re.sub('[^\\w\\s]', '', text)"
   ]
  },
  {
   "cell_type": "code",
   "execution_count": 46,
   "metadata": {},
   "outputs": [],
   "source": [
    "text = \"film ABC  @ was ? produced %  in , year $ 1994  .  'by'   Mr_X\""
   ]
  },
  {
   "cell_type": "code",
   "execution_count": 47,
   "metadata": {},
   "outputs": [
    {
     "data": {
      "text/plain": [
       "'film ABC   was  produced   in  year  1994    by   MrX'"
      ]
     },
     "execution_count": 47,
     "metadata": {},
     "output_type": "execute_result"
    }
   ],
   "source": [
    "#Removing special charecters with nothing\n",
    "result1 = re.sub(\"[,@'?.$%_]\", \"\", text)\n",
    "result1"
   ]
  },
  {
   "cell_type": "code",
   "execution_count": 48,
   "metadata": {},
   "outputs": [
    {
     "data": {
      "text/plain": [
       "'film ABC   was  produced   in  year  1994    by   MrX'"
      ]
     },
     "execution_count": 48,
     "metadata": {},
     "output_type": "execute_result"
    }
   ],
   "source": [
    "#Removing special charecters(non Alpha numeric and Space) with nothing\n",
    "result1 = re.sub(\"[^a-zA-Z0-9 ]\",\"\",text)\n",
    "result1"
   ]
  },
  {
   "cell_type": "code",
   "execution_count": 49,
   "metadata": {},
   "outputs": [
    {
     "data": {
      "text/plain": [
       "'film ABC   was  produced   in  year  1994    by   Mr_X'"
      ]
     },
     "execution_count": 49,
     "metadata": {},
     "output_type": "execute_result"
    }
   ],
   "source": [
    "# \\W -> Alphanumeric with underscores\n",
    "#\\s -> Space\n",
    "result1 = re.sub(\"[^\\w\\s]\",\"\",text)\n",
    "result1"
   ]
  },
  {
   "cell_type": "code",
   "execution_count": 51,
   "metadata": {},
   "outputs": [
    {
     "data": {
      "text/plain": [
       "'film ABC was produced in year 1994 by Mr_X'"
      ]
     },
     "execution_count": 51,
     "metadata": {},
     "output_type": "execute_result"
    }
   ],
   "source": [
    "#Removing multiple spaces with a single space\n",
    "result = re.sub(\"\\s+\", \" \", result1)\n",
    "result"
   ]
  },
  {
   "cell_type": "markdown",
   "metadata": {},
   "source": [
    "### Extracting text from HTML tags"
   ]
  },
  {
   "cell_type": "code",
   "execution_count": 32,
   "metadata": {},
   "outputs": [],
   "source": [
    "text = \"\"\"<div>\n",
    "<h1> H2O</h1>\n",
    "<p> AutoML</p>\n",
    "<a href=\"https://www.amazon.ai/products/h2o-driverless-ai/\"> Driverless AI</a>\n",
    "</div>\"\"\""
   ]
  },
  {
   "cell_type": "code",
   "execution_count": 33,
   "metadata": {},
   "outputs": [
    {
     "name": "stdout",
     "output_type": "stream",
     "text": [
      "<div>\n",
      "<h1> H2O</h1>\n",
      "<p> AutoML</p>\n",
      "<a href=\"https://www.amazon.ai/products/h2o-driverless-ai/\"> Driverless AI</a>\n",
      "</div>\n"
     ]
    }
   ],
   "source": [
    "print(text)"
   ]
  },
  {
   "cell_type": "markdown",
   "metadata": {},
   "source": [
    "To Extract Text Between the HTML tages we need to remove all the text between < and >\n",
    "i.e remove  Zero or more occourrence of any chatecter between < and >"
   ]
  },
  {
   "cell_type": "code",
   "execution_count": 34,
   "metadata": {},
   "outputs": [
    {
     "name": "stdout",
     "output_type": "stream",
     "text": [
      "\n",
      "\n",
      "\n",
      "\n",
      "\n"
     ]
    }
   ],
   "source": [
    "print(re.sub('<.*>',\"\",text))"
   ]
  },
  {
   "cell_type": "code",
   "execution_count": null,
   "metadata": {},
   "outputs": [],
   "source": [
    "#.* and + are greedy - it matches everything including the closing angular bracket >\n",
    "# .* and .+ should stop matching a pattern as soon as it encounters the closing angular bracket\n",
    "# use a \"?\" along with .* and .+ to make it non greedy"
   ]
  },
  {
   "cell_type": "code",
   "execution_count": 35,
   "metadata": {},
   "outputs": [
    {
     "name": "stdout",
     "output_type": "stream",
     "text": [
      "\n",
      " H2O\n",
      " AutoML\n",
      " Driverless AI\n",
      "\n"
     ]
    }
   ],
   "source": [
    "print(re.sub('<.*?>',\"\",text))"
   ]
  },
  {
   "cell_type": "markdown",
   "metadata": {},
   "source": [
    "## Extracting hashtags from tweets"
   ]
  },
  {
   "cell_type": "code",
   "execution_count": null,
   "metadata": {},
   "outputs": [],
   "source": [
    "text = 'Around 2,500 patients are taking part in clinical trails #Coronavirus'\n",
    "print(text)\n",
    "print(re.findall('#\\w+', text))"
   ]
  },
  {
   "cell_type": "code",
   "execution_count": null,
   "metadata": {},
   "outputs": [],
   "source": [
    "tweets = pd.read_csv('C:/Users/Raghavendra N/OneDrive/Official/Datasets/tweets_donald_trump.csv')\n",
    "tweets.head()"
   ]
  },
  {
   "cell_type": "markdown",
   "metadata": {},
   "source": [
    "Obtain the frequency of each of the hashtags\n",
    "\n",
    "- Step1: Extract all the hash tags and store them in a list\n",
    "- Step2: Compute the frequency of each of the hashtags"
   ]
  },
  {
   "cell_type": "markdown",
   "metadata": {},
   "source": [
    "## Cleaning salary"
   ]
  },
  {
   "cell_type": "code",
   "execution_count": null,
   "metadata": {},
   "outputs": [],
   "source": [
    "jobs = pd.read_csv('C:/Users/Raghavendra N/OneDrive/Official/Datasets/datascience_jobs.csv')\n",
    "jobs.head(5)"
   ]
  },
  {
   "cell_type": "code",
   "execution_count": null,
   "metadata": {},
   "outputs": [],
   "source": [
    "# Task : From the salary column extract the minimum and maximum salary, NA if unable to extract"
   ]
  }
 ],
 "metadata": {
  "kernelspec": {
   "display_name": "Python 3",
   "language": "python",
   "name": "python3"
  },
  "language_info": {
   "codemirror_mode": {
    "name": "ipython",
    "version": 3
   },
   "file_extension": ".py",
   "mimetype": "text/x-python",
   "name": "python",
   "nbconvert_exporter": "python",
   "pygments_lexer": "ipython3",
   "version": "3.8.5"
  }
 },
 "nbformat": 4,
 "nbformat_minor": 2
}
