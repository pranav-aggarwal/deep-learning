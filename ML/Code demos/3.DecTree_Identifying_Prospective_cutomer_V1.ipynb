{
 "cells": [
  {
   "cell_type": "markdown",
   "metadata": {},
   "source": [
    "ID3(Stands for Iterative Dichotomiser 3) Decision Tree Algorithm "
   ]
  },
  {
   "cell_type": "code",
   "execution_count": 47,
   "metadata": {},
   "outputs": [],
   "source": [
    "import pandas as pd\n",
    "import numpy as np\n",
    "import pydotplus\n",
    "from IPython.display import Image, display"
   ]
  },
  {
   "cell_type": "code",
   "execution_count": 5,
   "metadata": {},
   "outputs": [
    {
     "data": {
      "text/html": [
       "<div>\n",
       "<style scoped>\n",
       "    .dataframe tbody tr th:only-of-type {\n",
       "        vertical-align: middle;\n",
       "    }\n",
       "\n",
       "    .dataframe tbody tr th {\n",
       "        vertical-align: top;\n",
       "    }\n",
       "\n",
       "    .dataframe thead th {\n",
       "        text-align: right;\n",
       "    }\n",
       "</style>\n",
       "<table border=\"1\" class=\"dataframe\">\n",
       "  <thead>\n",
       "    <tr style=\"text-align: right;\">\n",
       "      <th></th>\n",
       "      <th>OWN_HOUSE</th>\n",
       "      <th>OWN_CAR</th>\n",
       "      <th>HOUSE_LOAN</th>\n",
       "      <th>CAR_LOAN</th>\n",
       "      <th>SMOKER</th>\n",
       "      <th>HEART_DISEASE</th>\n",
       "      <th>DIABETES</th>\n",
       "      <th>MARITAL_STATUS</th>\n",
       "      <th>CHILDREN</th>\n",
       "      <th>OTHER_INSURANCE</th>\n",
       "      <th>PURCHASE</th>\n",
       "    </tr>\n",
       "  </thead>\n",
       "  <tbody>\n",
       "    <tr>\n",
       "      <th>0</th>\n",
       "      <td>1</td>\n",
       "      <td>0</td>\n",
       "      <td>0</td>\n",
       "      <td>0</td>\n",
       "      <td>0</td>\n",
       "      <td>0</td>\n",
       "      <td>1</td>\n",
       "      <td>1</td>\n",
       "      <td>1</td>\n",
       "      <td>1</td>\n",
       "      <td>1</td>\n",
       "    </tr>\n",
       "    <tr>\n",
       "      <th>1</th>\n",
       "      <td>0</td>\n",
       "      <td>0</td>\n",
       "      <td>0</td>\n",
       "      <td>0</td>\n",
       "      <td>0</td>\n",
       "      <td>0</td>\n",
       "      <td>1</td>\n",
       "      <td>1</td>\n",
       "      <td>1</td>\n",
       "      <td>0</td>\n",
       "      <td>0</td>\n",
       "    </tr>\n",
       "    <tr>\n",
       "      <th>2</th>\n",
       "      <td>0</td>\n",
       "      <td>0</td>\n",
       "      <td>0</td>\n",
       "      <td>0</td>\n",
       "      <td>0</td>\n",
       "      <td>0</td>\n",
       "      <td>1</td>\n",
       "      <td>1</td>\n",
       "      <td>2</td>\n",
       "      <td>0</td>\n",
       "      <td>0</td>\n",
       "    </tr>\n",
       "    <tr>\n",
       "      <th>3</th>\n",
       "      <td>0</td>\n",
       "      <td>0</td>\n",
       "      <td>0</td>\n",
       "      <td>0</td>\n",
       "      <td>0</td>\n",
       "      <td>0</td>\n",
       "      <td>0</td>\n",
       "      <td>1</td>\n",
       "      <td>1</td>\n",
       "      <td>0</td>\n",
       "      <td>0</td>\n",
       "    </tr>\n",
       "    <tr>\n",
       "      <th>4</th>\n",
       "      <td>1</td>\n",
       "      <td>0</td>\n",
       "      <td>0</td>\n",
       "      <td>0</td>\n",
       "      <td>1</td>\n",
       "      <td>0</td>\n",
       "      <td>0</td>\n",
       "      <td>0</td>\n",
       "      <td>0</td>\n",
       "      <td>1</td>\n",
       "      <td>0</td>\n",
       "    </tr>\n",
       "  </tbody>\n",
       "</table>\n",
       "</div>"
      ],
      "text/plain": [
       "   OWN_HOUSE  OWN_CAR  HOUSE_LOAN  CAR_LOAN  SMOKER  HEART_DISEASE  DIABETES  \\\n",
       "0          1        0           0         0       0              0         1   \n",
       "1          0        0           0         0       0              0         1   \n",
       "2          0        0           0         0       0              0         1   \n",
       "3          0        0           0         0       0              0         0   \n",
       "4          1        0           0         0       1              0         0   \n",
       "\n",
       "   MARITAL_STATUS  CHILDREN  OTHER_INSURANCE  PURCHASE  \n",
       "0               1         1                1         1  \n",
       "1               1         1                0         0  \n",
       "2               1         2                0         0  \n",
       "3               1         1                0         0  \n",
       "4               0         0                1         0  "
      ]
     },
     "execution_count": 5,
     "metadata": {},
     "output_type": "execute_result"
    }
   ],
   "source": [
    "data = pd.read_csv(r'LEAD.csv')\n",
    "data.head()"
   ]
  },
  {
   "cell_type": "code",
   "execution_count": 6,
   "metadata": {},
   "outputs": [
    {
     "name": "stdout",
     "output_type": "stream",
     "text": [
      "<class 'pandas.core.frame.DataFrame'>\n",
      "RangeIndex: 20742 entries, 0 to 20741\n",
      "Data columns (total 11 columns):\n",
      " #   Column           Non-Null Count  Dtype\n",
      "---  ------           --------------  -----\n",
      " 0   OWN_HOUSE        20742 non-null  int64\n",
      " 1   OWN_CAR          20742 non-null  int64\n",
      " 2   HOUSE_LOAN       20742 non-null  int64\n",
      " 3   CAR_LOAN         20742 non-null  int64\n",
      " 4   SMOKER           20742 non-null  int64\n",
      " 5   HEART_DISEASE    20742 non-null  int64\n",
      " 6   DIABETES         20742 non-null  int64\n",
      " 7   MARITAL_STATUS   20742 non-null  int64\n",
      " 8   CHILDREN         20742 non-null  int64\n",
      " 9   OTHER_INSURANCE  20742 non-null  int64\n",
      " 10  PURCHASE         20742 non-null  int64\n",
      "dtypes: int64(11)\n",
      "memory usage: 1.7 MB\n"
     ]
    }
   ],
   "source": [
    "data.info()"
   ]
  },
  {
   "cell_type": "code",
   "execution_count": 7,
   "metadata": {},
   "outputs": [
    {
     "data": {
      "text/html": [
       "<div>\n",
       "<style scoped>\n",
       "    .dataframe tbody tr th:only-of-type {\n",
       "        vertical-align: middle;\n",
       "    }\n",
       "\n",
       "    .dataframe tbody tr th {\n",
       "        vertical-align: top;\n",
       "    }\n",
       "\n",
       "    .dataframe thead th {\n",
       "        text-align: right;\n",
       "    }\n",
       "</style>\n",
       "<table border=\"1\" class=\"dataframe\">\n",
       "  <thead>\n",
       "    <tr style=\"text-align: right;\">\n",
       "      <th></th>\n",
       "      <th>OWN_HOUSE</th>\n",
       "      <th>OWN_CAR</th>\n",
       "      <th>HOUSE_LOAN</th>\n",
       "      <th>CAR_LOAN</th>\n",
       "      <th>SMOKER</th>\n",
       "      <th>HEART_DISEASE</th>\n",
       "      <th>DIABETES</th>\n",
       "      <th>MARITAL_STATUS</th>\n",
       "      <th>CHILDREN</th>\n",
       "      <th>OTHER_INSURANCE</th>\n",
       "      <th>PURCHASE</th>\n",
       "    </tr>\n",
       "  </thead>\n",
       "  <tbody>\n",
       "    <tr>\n",
       "      <th>count</th>\n",
       "      <td>20742.000000</td>\n",
       "      <td>20742.000000</td>\n",
       "      <td>20742.000000</td>\n",
       "      <td>20742.000000</td>\n",
       "      <td>20742.000000</td>\n",
       "      <td>20742.000000</td>\n",
       "      <td>20742.000000</td>\n",
       "      <td>20742.000000</td>\n",
       "      <td>20742.000000</td>\n",
       "      <td>20742.000000</td>\n",
       "      <td>20742.000000</td>\n",
       "    </tr>\n",
       "    <tr>\n",
       "      <th>mean</th>\n",
       "      <td>0.336033</td>\n",
       "      <td>0.166715</td>\n",
       "      <td>0.038521</td>\n",
       "      <td>0.037219</td>\n",
       "      <td>0.229968</td>\n",
       "      <td>0.034664</td>\n",
       "      <td>0.310722</td>\n",
       "      <td>0.955067</td>\n",
       "      <td>1.244673</td>\n",
       "      <td>0.280494</td>\n",
       "      <td>0.085768</td>\n",
       "    </tr>\n",
       "    <tr>\n",
       "      <th>std</th>\n",
       "      <td>0.472362</td>\n",
       "      <td>0.372730</td>\n",
       "      <td>0.192455</td>\n",
       "      <td>0.189303</td>\n",
       "      <td>0.420822</td>\n",
       "      <td>0.182932</td>\n",
       "      <td>0.462800</td>\n",
       "      <td>0.207162</td>\n",
       "      <td>0.696347</td>\n",
       "      <td>0.449251</td>\n",
       "      <td>0.280028</td>\n",
       "    </tr>\n",
       "    <tr>\n",
       "      <th>min</th>\n",
       "      <td>0.000000</td>\n",
       "      <td>0.000000</td>\n",
       "      <td>0.000000</td>\n",
       "      <td>0.000000</td>\n",
       "      <td>0.000000</td>\n",
       "      <td>0.000000</td>\n",
       "      <td>0.000000</td>\n",
       "      <td>0.000000</td>\n",
       "      <td>0.000000</td>\n",
       "      <td>0.000000</td>\n",
       "      <td>0.000000</td>\n",
       "    </tr>\n",
       "    <tr>\n",
       "      <th>25%</th>\n",
       "      <td>0.000000</td>\n",
       "      <td>0.000000</td>\n",
       "      <td>0.000000</td>\n",
       "      <td>0.000000</td>\n",
       "      <td>0.000000</td>\n",
       "      <td>0.000000</td>\n",
       "      <td>0.000000</td>\n",
       "      <td>1.000000</td>\n",
       "      <td>1.000000</td>\n",
       "      <td>0.000000</td>\n",
       "      <td>0.000000</td>\n",
       "    </tr>\n",
       "    <tr>\n",
       "      <th>50%</th>\n",
       "      <td>0.000000</td>\n",
       "      <td>0.000000</td>\n",
       "      <td>0.000000</td>\n",
       "      <td>0.000000</td>\n",
       "      <td>0.000000</td>\n",
       "      <td>0.000000</td>\n",
       "      <td>0.000000</td>\n",
       "      <td>1.000000</td>\n",
       "      <td>1.000000</td>\n",
       "      <td>0.000000</td>\n",
       "      <td>0.000000</td>\n",
       "    </tr>\n",
       "    <tr>\n",
       "      <th>75%</th>\n",
       "      <td>1.000000</td>\n",
       "      <td>0.000000</td>\n",
       "      <td>0.000000</td>\n",
       "      <td>0.000000</td>\n",
       "      <td>0.000000</td>\n",
       "      <td>0.000000</td>\n",
       "      <td>1.000000</td>\n",
       "      <td>1.000000</td>\n",
       "      <td>2.000000</td>\n",
       "      <td>1.000000</td>\n",
       "      <td>0.000000</td>\n",
       "    </tr>\n",
       "    <tr>\n",
       "      <th>max</th>\n",
       "      <td>1.000000</td>\n",
       "      <td>1.000000</td>\n",
       "      <td>1.000000</td>\n",
       "      <td>1.000000</td>\n",
       "      <td>1.000000</td>\n",
       "      <td>1.000000</td>\n",
       "      <td>1.000000</td>\n",
       "      <td>1.000000</td>\n",
       "      <td>2.000000</td>\n",
       "      <td>1.000000</td>\n",
       "      <td>1.000000</td>\n",
       "    </tr>\n",
       "  </tbody>\n",
       "</table>\n",
       "</div>"
      ],
      "text/plain": [
       "          OWN_HOUSE       OWN_CAR    HOUSE_LOAN      CAR_LOAN        SMOKER  \\\n",
       "count  20742.000000  20742.000000  20742.000000  20742.000000  20742.000000   \n",
       "mean       0.336033      0.166715      0.038521      0.037219      0.229968   \n",
       "std        0.472362      0.372730      0.192455      0.189303      0.420822   \n",
       "min        0.000000      0.000000      0.000000      0.000000      0.000000   \n",
       "25%        0.000000      0.000000      0.000000      0.000000      0.000000   \n",
       "50%        0.000000      0.000000      0.000000      0.000000      0.000000   \n",
       "75%        1.000000      0.000000      0.000000      0.000000      0.000000   \n",
       "max        1.000000      1.000000      1.000000      1.000000      1.000000   \n",
       "\n",
       "       HEART_DISEASE      DIABETES  MARITAL_STATUS      CHILDREN  \\\n",
       "count   20742.000000  20742.000000    20742.000000  20742.000000   \n",
       "mean        0.034664      0.310722        0.955067      1.244673   \n",
       "std         0.182932      0.462800        0.207162      0.696347   \n",
       "min         0.000000      0.000000        0.000000      0.000000   \n",
       "25%         0.000000      0.000000        1.000000      1.000000   \n",
       "50%         0.000000      0.000000        1.000000      1.000000   \n",
       "75%         0.000000      1.000000        1.000000      2.000000   \n",
       "max         1.000000      1.000000        1.000000      2.000000   \n",
       "\n",
       "       OTHER_INSURANCE      PURCHASE  \n",
       "count     20742.000000  20742.000000  \n",
       "mean          0.280494      0.085768  \n",
       "std           0.449251      0.280028  \n",
       "min           0.000000      0.000000  \n",
       "25%           0.000000      0.000000  \n",
       "50%           0.000000      0.000000  \n",
       "75%           1.000000      0.000000  \n",
       "max           1.000000      1.000000  "
      ]
     },
     "execution_count": 7,
     "metadata": {},
     "output_type": "execute_result"
    }
   ],
   "source": [
    "data.describe()"
   ]
  },
  {
   "cell_type": "code",
   "execution_count": 8,
   "metadata": {},
   "outputs": [
    {
     "data": {
      "text/plain": [
       "0    0.914232\n",
       "1    0.085768\n",
       "Name: PURCHASE, dtype: float64"
      ]
     },
     "execution_count": 8,
     "metadata": {},
     "output_type": "execute_result"
    }
   ],
   "source": [
    "data.PURCHASE.value_counts(normalize=True)"
   ]
  },
  {
   "cell_type": "markdown",
   "metadata": {},
   "source": [
    "Now, we need to check whether there is any missing value in the dataset or not. For that we will be using the following code."
   ]
  },
  {
   "cell_type": "code",
   "execution_count": 9,
   "metadata": {},
   "outputs": [
    {
     "data": {
      "text/plain": [
       "OWN_HOUSE          0\n",
       "OWN_CAR            0\n",
       "HOUSE_LOAN         0\n",
       "CAR_LOAN           0\n",
       "SMOKER             0\n",
       "HEART_DISEASE      0\n",
       "DIABETES           0\n",
       "MARITAL_STATUS     0\n",
       "CHILDREN           0\n",
       "OTHER_INSURANCE    0\n",
       "PURCHASE           0\n",
       "dtype: int64"
      ]
     },
     "execution_count": 9,
     "metadata": {},
     "output_type": "execute_result"
    }
   ],
   "source": [
    "data.isnull().sum(axis = 0)"
   ]
  },
  {
   "cell_type": "code",
   "execution_count": 56,
   "metadata": {},
   "outputs": [],
   "source": [
    "X_labels = ['OWN_HOUSE', 'OWN_CAR', 'HOUSE_LOAN', 'CAR_LOAN',\n",
    "                   'SMOKER', 'HEART_DISEASE', 'DIABETES', 'MARITAL_STATUS', 'CHILDREN', 'OTHER_INSURANCE']\n",
    "X = data[X_labels]\n",
    "y_labels = ['PURCHASE']\n",
    "y = np.array(data[y_labels])"
   ]
  },
  {
   "cell_type": "code",
   "execution_count": 57,
   "metadata": {},
   "outputs": [],
   "source": [
    "from sklearn.model_selection import train_test_split"
   ]
  },
  {
   "cell_type": "code",
   "execution_count": 58,
   "metadata": {},
   "outputs": [],
   "source": [
    "X_train, X_test, y_train, y_test = train_test_split(X, y, test_size=0.15, random_state=25)"
   ]
  },
  {
   "cell_type": "markdown",
   "metadata": {},
   "source": [
    "Now we will be fitting the Decision Tree model on the training dataset for a depth of 3"
   ]
  },
  {
   "cell_type": "code",
   "execution_count": 92,
   "metadata": {},
   "outputs": [],
   "source": [
    "from sklearn.tree import DecisionTreeClassifier\n",
    "from sklearn.tree import export_graphviz"
   ]
  },
  {
   "cell_type": "code",
   "execution_count": 135,
   "metadata": {},
   "outputs": [],
   "source": [
    "dectree = DecisionTreeClassifier(max_depth=3)\n",
    "dectree_train = dectree.fit(X_train, y_train)\n",
    "y_pred = dectree_train.predict(X_test)"
   ]
  },
  {
   "cell_type": "code",
   "execution_count": 136,
   "metadata": {},
   "outputs": [
    {
     "data": {
      "text/html": [
       "<div>\n",
       "<style scoped>\n",
       "    .dataframe tbody tr th:only-of-type {\n",
       "        vertical-align: middle;\n",
       "    }\n",
       "\n",
       "    .dataframe tbody tr th {\n",
       "        vertical-align: top;\n",
       "    }\n",
       "\n",
       "    .dataframe thead th {\n",
       "        text-align: right;\n",
       "    }\n",
       "</style>\n",
       "<table border=\"1\" class=\"dataframe\">\n",
       "  <thead>\n",
       "    <tr style=\"text-align: right;\">\n",
       "      <th></th>\n",
       "      <th>OWN_HOUSE</th>\n",
       "      <th>OWN_CAR</th>\n",
       "      <th>HOUSE_LOAN</th>\n",
       "      <th>CAR_LOAN</th>\n",
       "      <th>SMOKER</th>\n",
       "      <th>HEART_DISEASE</th>\n",
       "      <th>DIABETES</th>\n",
       "      <th>MARITAL_STATUS</th>\n",
       "      <th>CHILDREN</th>\n",
       "      <th>OTHER_INSURANCE</th>\n",
       "      <th>y_test</th>\n",
       "      <th>y_pred</th>\n",
       "    </tr>\n",
       "  </thead>\n",
       "  <tbody>\n",
       "    <tr>\n",
       "      <th>0</th>\n",
       "      <td>0</td>\n",
       "      <td>0</td>\n",
       "      <td>0</td>\n",
       "      <td>0</td>\n",
       "      <td>0</td>\n",
       "      <td>0</td>\n",
       "      <td>0</td>\n",
       "      <td>1</td>\n",
       "      <td>2</td>\n",
       "      <td>1</td>\n",
       "      <td>0</td>\n",
       "      <td>0</td>\n",
       "    </tr>\n",
       "    <tr>\n",
       "      <th>1</th>\n",
       "      <td>0</td>\n",
       "      <td>0</td>\n",
       "      <td>0</td>\n",
       "      <td>0</td>\n",
       "      <td>0</td>\n",
       "      <td>0</td>\n",
       "      <td>1</td>\n",
       "      <td>1</td>\n",
       "      <td>2</td>\n",
       "      <td>0</td>\n",
       "      <td>0</td>\n",
       "      <td>0</td>\n",
       "    </tr>\n",
       "    <tr>\n",
       "      <th>2</th>\n",
       "      <td>0</td>\n",
       "      <td>0</td>\n",
       "      <td>0</td>\n",
       "      <td>0</td>\n",
       "      <td>0</td>\n",
       "      <td>0</td>\n",
       "      <td>0</td>\n",
       "      <td>1</td>\n",
       "      <td>2</td>\n",
       "      <td>0</td>\n",
       "      <td>0</td>\n",
       "      <td>0</td>\n",
       "    </tr>\n",
       "    <tr>\n",
       "      <th>3</th>\n",
       "      <td>1</td>\n",
       "      <td>0</td>\n",
       "      <td>0</td>\n",
       "      <td>0</td>\n",
       "      <td>0</td>\n",
       "      <td>0</td>\n",
       "      <td>0</td>\n",
       "      <td>1</td>\n",
       "      <td>1</td>\n",
       "      <td>0</td>\n",
       "      <td>0</td>\n",
       "      <td>0</td>\n",
       "    </tr>\n",
       "    <tr>\n",
       "      <th>4</th>\n",
       "      <td>1</td>\n",
       "      <td>0</td>\n",
       "      <td>0</td>\n",
       "      <td>0</td>\n",
       "      <td>0</td>\n",
       "      <td>0</td>\n",
       "      <td>1</td>\n",
       "      <td>1</td>\n",
       "      <td>1</td>\n",
       "      <td>1</td>\n",
       "      <td>0</td>\n",
       "      <td>0</td>\n",
       "    </tr>\n",
       "  </tbody>\n",
       "</table>\n",
       "</div>"
      ],
      "text/plain": [
       "   OWN_HOUSE  OWN_CAR  HOUSE_LOAN  CAR_LOAN  SMOKER  HEART_DISEASE  DIABETES  \\\n",
       "0          0        0           0         0       0              0         0   \n",
       "1          0        0           0         0       0              0         1   \n",
       "2          0        0           0         0       0              0         0   \n",
       "3          1        0           0         0       0              0         0   \n",
       "4          1        0           0         0       0              0         1   \n",
       "\n",
       "   MARITAL_STATUS  CHILDREN  OTHER_INSURANCE  y_test  y_pred  \n",
       "0               1         2                1       0       0  \n",
       "1               1         2                0       0       0  \n",
       "2               1         2                0       0       0  \n",
       "3               1         1                0       0       0  \n",
       "4               1         1                1       0       0  "
      ]
     },
     "execution_count": 136,
     "metadata": {},
     "output_type": "execute_result"
    }
   ],
   "source": [
    "test_pred = pd.DataFrame(np.hstack((X_test,y_test,y_pred.reshape(-1,1))),columns=['OWN_HOUSE', 'OWN_CAR', 'HOUSE_LOAN', 'CAR_LOAN',\n",
    "                   'SMOKER', 'HEART_DISEASE', 'DIABETES', 'MARITAL_STATUS', 'CHILDREN', 'OTHER_INSURANCE','y_test','y_pred'])\n",
    "test_pred.head()"
   ]
  },
  {
   "cell_type": "code",
   "execution_count": 137,
   "metadata": {},
   "outputs": [
    {
     "data": {
      "text/html": [
       "<div>\n",
       "<style scoped>\n",
       "    .dataframe tbody tr th:only-of-type {\n",
       "        vertical-align: middle;\n",
       "    }\n",
       "\n",
       "    .dataframe tbody tr th {\n",
       "        vertical-align: top;\n",
       "    }\n",
       "\n",
       "    .dataframe thead th {\n",
       "        text-align: right;\n",
       "    }\n",
       "</style>\n",
       "<table border=\"1\" class=\"dataframe\">\n",
       "  <thead>\n",
       "    <tr style=\"text-align: right;\">\n",
       "      <th></th>\n",
       "      <th>y_test</th>\n",
       "      <th>y_pred</th>\n",
       "    </tr>\n",
       "  </thead>\n",
       "  <tbody>\n",
       "    <tr>\n",
       "      <th>0</th>\n",
       "      <td>0</td>\n",
       "      <td>0</td>\n",
       "    </tr>\n",
       "    <tr>\n",
       "      <th>1</th>\n",
       "      <td>0</td>\n",
       "      <td>0</td>\n",
       "    </tr>\n",
       "    <tr>\n",
       "      <th>2</th>\n",
       "      <td>0</td>\n",
       "      <td>0</td>\n",
       "    </tr>\n",
       "    <tr>\n",
       "      <th>3</th>\n",
       "      <td>0</td>\n",
       "      <td>0</td>\n",
       "    </tr>\n",
       "    <tr>\n",
       "      <th>4</th>\n",
       "      <td>0</td>\n",
       "      <td>0</td>\n",
       "    </tr>\n",
       "    <tr>\n",
       "      <th>5</th>\n",
       "      <td>0</td>\n",
       "      <td>0</td>\n",
       "    </tr>\n",
       "    <tr>\n",
       "      <th>6</th>\n",
       "      <td>0</td>\n",
       "      <td>0</td>\n",
       "    </tr>\n",
       "    <tr>\n",
       "      <th>7</th>\n",
       "      <td>0</td>\n",
       "      <td>0</td>\n",
       "    </tr>\n",
       "    <tr>\n",
       "      <th>8</th>\n",
       "      <td>0</td>\n",
       "      <td>0</td>\n",
       "    </tr>\n",
       "    <tr>\n",
       "      <th>9</th>\n",
       "      <td>0</td>\n",
       "      <td>0</td>\n",
       "    </tr>\n",
       "    <tr>\n",
       "      <th>10</th>\n",
       "      <td>0</td>\n",
       "      <td>0</td>\n",
       "    </tr>\n",
       "    <tr>\n",
       "      <th>11</th>\n",
       "      <td>1</td>\n",
       "      <td>0</td>\n",
       "    </tr>\n",
       "    <tr>\n",
       "      <th>12</th>\n",
       "      <td>0</td>\n",
       "      <td>0</td>\n",
       "    </tr>\n",
       "    <tr>\n",
       "      <th>13</th>\n",
       "      <td>0</td>\n",
       "      <td>0</td>\n",
       "    </tr>\n",
       "    <tr>\n",
       "      <th>14</th>\n",
       "      <td>1</td>\n",
       "      <td>0</td>\n",
       "    </tr>\n",
       "    <tr>\n",
       "      <th>15</th>\n",
       "      <td>0</td>\n",
       "      <td>0</td>\n",
       "    </tr>\n",
       "    <tr>\n",
       "      <th>16</th>\n",
       "      <td>0</td>\n",
       "      <td>0</td>\n",
       "    </tr>\n",
       "    <tr>\n",
       "      <th>17</th>\n",
       "      <td>0</td>\n",
       "      <td>0</td>\n",
       "    </tr>\n",
       "    <tr>\n",
       "      <th>18</th>\n",
       "      <td>0</td>\n",
       "      <td>0</td>\n",
       "    </tr>\n",
       "    <tr>\n",
       "      <th>19</th>\n",
       "      <td>0</td>\n",
       "      <td>0</td>\n",
       "    </tr>\n",
       "  </tbody>\n",
       "</table>\n",
       "</div>"
      ],
      "text/plain": [
       "    y_test  y_pred\n",
       "0        0       0\n",
       "1        0       0\n",
       "2        0       0\n",
       "3        0       0\n",
       "4        0       0\n",
       "5        0       0\n",
       "6        0       0\n",
       "7        0       0\n",
       "8        0       0\n",
       "9        0       0\n",
       "10       0       0\n",
       "11       1       0\n",
       "12       0       0\n",
       "13       0       0\n",
       "14       1       0\n",
       "15       0       0\n",
       "16       0       0\n",
       "17       0       0\n",
       "18       0       0\n",
       "19       0       0"
      ]
     },
     "execution_count": 137,
     "metadata": {},
     "output_type": "execute_result"
    }
   ],
   "source": [
    "test_pred[['y_test','y_pred']].head(20)"
   ]
  },
  {
   "cell_type": "code",
   "execution_count": 138,
   "metadata": {},
   "outputs": [
    {
     "name": "stdout",
     "output_type": "stream",
     "text": [
      "Decision tree accuracy Score= 91.58097686375322\n"
     ]
    }
   ],
   "source": [
    "from sklearn.metrics import accuracy_score, confusion_matrix\n",
    "print(\"Decision tree accuracy Score=\",accuracy_score(y_test,y_pred)*100)"
   ]
  },
  {
   "cell_type": "code",
   "execution_count": 139,
   "metadata": {},
   "outputs": [
    {
     "data": {
      "text/plain": [
       "array([[0.92105263, 0.07894737],\n",
       "       [0.98386754, 0.01613246],\n",
       "       [0.98386754, 0.01613246],\n",
       "       ...,\n",
       "       [1.        , 0.        ],\n",
       "       [0.92105263, 0.07894737],\n",
       "       [0.98386754, 0.01613246]])"
      ]
     },
     "execution_count": 139,
     "metadata": {},
     "output_type": "execute_result"
    }
   ],
   "source": [
    "prob = dectree_train.predict_proba(X_test)\n",
    "prob"
   ]
  },
  {
   "cell_type": "markdown",
   "metadata": {},
   "source": [
    "Suppose we get a new observation of a customer who does not:\n",
    "1. own a house\n",
    "2. have a heart disease\n",
    "3. have any other insurance\n",
    "\n",
    "and the customer has:\n",
    "1. car\n",
    "2. house loan\n",
    "3. car loan\n",
    "4. smoker\n",
    "5. diabetes\n",
    "6. married\n",
    "7. one children"
   ]
  },
  {
   "cell_type": "code",
   "execution_count": 140,
   "metadata": {},
   "outputs": [
    {
     "data": {
      "text/html": [
       "<div>\n",
       "<style scoped>\n",
       "    .dataframe tbody tr th:only-of-type {\n",
       "        vertical-align: middle;\n",
       "    }\n",
       "\n",
       "    .dataframe tbody tr th {\n",
       "        vertical-align: top;\n",
       "    }\n",
       "\n",
       "    .dataframe thead th {\n",
       "        text-align: right;\n",
       "    }\n",
       "</style>\n",
       "<table border=\"1\" class=\"dataframe\">\n",
       "  <thead>\n",
       "    <tr style=\"text-align: right;\">\n",
       "      <th></th>\n",
       "      <th>OWN_HOUSE</th>\n",
       "      <th>OWN_CAR</th>\n",
       "      <th>HOUSE_LOAN</th>\n",
       "      <th>CAR_LOAN</th>\n",
       "      <th>SMOKER</th>\n",
       "      <th>HEART_DISEASE</th>\n",
       "      <th>DIABETES</th>\n",
       "      <th>MARITAL_STATUS</th>\n",
       "      <th>CHILDREN</th>\n",
       "      <th>OTHER_INSURANCE</th>\n",
       "    </tr>\n",
       "  </thead>\n",
       "  <tbody>\n",
       "    <tr>\n",
       "      <th>0</th>\n",
       "      <td>0</td>\n",
       "      <td>1</td>\n",
       "      <td>1</td>\n",
       "      <td>1</td>\n",
       "      <td>1</td>\n",
       "      <td>0</td>\n",
       "      <td>1</td>\n",
       "      <td>1</td>\n",
       "      <td>1</td>\n",
       "      <td>0</td>\n",
       "    </tr>\n",
       "  </tbody>\n",
       "</table>\n",
       "</div>"
      ],
      "text/plain": [
       "   OWN_HOUSE  OWN_CAR  HOUSE_LOAN  CAR_LOAN  SMOKER  HEART_DISEASE  DIABETES  \\\n",
       "0          0        1           1         1       1              0         1   \n",
       "\n",
       "   MARITAL_STATUS  CHILDREN  OTHER_INSURANCE  \n",
       "0               1         1                0  "
      ]
     },
     "execution_count": 140,
     "metadata": {},
     "output_type": "execute_result"
    }
   ],
   "source": [
    "sample_df = pd.DataFrame([[0,1,1,1,1,0,1,1,1,0]],columns = ['OWN_HOUSE', 'OWN_CAR', 'HOUSE_LOAN', 'CAR_LOAN',\n",
    "                   'SMOKER', 'HEART_DISEASE', 'DIABETES', 'MARITAL_STATUS', 'CHILDREN', 'OTHER_INSURANCE'])\n",
    "sample_df"
   ]
  },
  {
   "cell_type": "code",
   "execution_count": 141,
   "metadata": {},
   "outputs": [
    {
     "data": {
      "text/plain": [
       "array([0])"
      ]
     },
     "execution_count": 141,
     "metadata": {},
     "output_type": "execute_result"
    }
   ],
   "source": [
    "dectree_train.predict(sample_df)"
   ]
  },
  {
   "cell_type": "markdown",
   "metadata": {},
   "source": [
    "for this customer, he is not going to purchase the item"
   ]
  },
  {
   "cell_type": "code",
   "execution_count": 142,
   "metadata": {},
   "outputs": [
    {
     "data": {
      "text/plain": [
       "array([[0.98386754, 0.01613246]])"
      ]
     },
     "execution_count": 142,
     "metadata": {},
     "output_type": "execute_result"
    }
   ],
   "source": [
    "dectree_train.predict_proba(sample_df)"
   ]
  },
  {
   "cell_type": "markdown",
   "metadata": {},
   "source": [
    "The probability of making this claim is 98%"
   ]
  },
  {
   "cell_type": "code",
   "execution_count": 143,
   "metadata": {},
   "outputs": [
    {
     "name": "stdout",
     "output_type": "stream",
     "text": [
      "[[2846    5]\n",
      " [ 257    4]]\n"
     ]
    }
   ],
   "source": [
    "cm = confusion_matrix(y_test,y_pred)\n",
    "print(cm)"
   ]
  },
  {
   "cell_type": "code",
   "execution_count": 144,
   "metadata": {},
   "outputs": [
    {
     "name": "stdout",
     "output_type": "stream",
     "text": [
      "True Negative:  2846\n"
     ]
    }
   ],
   "source": [
    "#Actually 0, but predicted as 0: TN\n",
    "TN = cm[0,0]\n",
    "print(\"True Negative: \",TN)"
   ]
  },
  {
   "cell_type": "code",
   "execution_count": 145,
   "metadata": {},
   "outputs": [
    {
     "name": "stdout",
     "output_type": "stream",
     "text": [
      "False Positive:  5\n"
     ]
    }
   ],
   "source": [
    "#Actually 0, but predicted as 1 : FP\n",
    "FP = cm[0,1]\n",
    "print(\"False Positive: \",FP)"
   ]
  },
  {
   "cell_type": "code",
   "execution_count": 146,
   "metadata": {},
   "outputs": [
    {
     "name": "stdout",
     "output_type": "stream",
     "text": [
      "False Negative:  257\n"
     ]
    }
   ],
   "source": [
    "#Actually 1, but predicted as 0 : FN\n",
    "FN = cm[1,0]\n",
    "print(\"False Negative: \",FN)"
   ]
  },
  {
   "cell_type": "code",
   "execution_count": 147,
   "metadata": {},
   "outputs": [
    {
     "name": "stdout",
     "output_type": "stream",
     "text": [
      "True Positive:  4\n"
     ]
    }
   ],
   "source": [
    "#Actually 1, but predicted as 1 : TP\n",
    "TP = cm[1,1]\n",
    "print(\"True Positive: \",TP)"
   ]
  },
  {
   "cell_type": "code",
   "execution_count": 148,
   "metadata": {},
   "outputs": [
    {
     "data": {
      "text/plain": [
       "0.9158097686375322"
      ]
     },
     "execution_count": 148,
     "metadata": {},
     "output_type": "execute_result"
    }
   ],
   "source": [
    "#Accuracy = Total Number of correct predictions/Total Number of observations\n",
    "#orAccuracy = (TN+TP)/Total Number of observations\n",
    "n=len(y_test)\n",
    "(TN+TP)/n"
   ]
  },
  {
   "cell_type": "code",
   "execution_count": 149,
   "metadata": {},
   "outputs": [
    {
     "data": {
      "text/plain": [
       "0.01532567049808429"
      ]
     },
     "execution_count": 149,
     "metadata": {},
     "output_type": "execute_result"
    }
   ],
   "source": [
    "# recall orTPR or Sensitivity : TP/(TP+FN)\n",
    "recall = TP/(TP+FN)\n",
    "recall"
   ]
  },
  {
   "cell_type": "code",
   "execution_count": 150,
   "metadata": {},
   "outputs": [
    {
     "data": {
      "text/plain": [
       "0.9982462293931954"
      ]
     },
     "execution_count": 150,
     "metadata": {},
     "output_type": "execute_result"
    }
   ],
   "source": [
    "#Specificity : TN/(TN+FP)\n",
    "specificity = TN/(TN+FP)\n",
    "specificity"
   ]
  },
  {
   "cell_type": "code",
   "execution_count": 151,
   "metadata": {},
   "outputs": [
    {
     "data": {
      "text/plain": [
       "0.0017537706068045944"
      ]
     },
     "execution_count": 151,
     "metadata": {},
     "output_type": "execute_result"
    }
   ],
   "source": [
    "#FPR = 1-specificity or FP/(FP+TN)\n",
    "FPR = 1-specificity\n",
    "FPR"
   ]
  },
  {
   "cell_type": "code",
   "execution_count": 152,
   "metadata": {},
   "outputs": [
    {
     "data": {
      "text/plain": [
       "0.4444444444444444"
      ]
     },
     "execution_count": 152,
     "metadata": {},
     "output_type": "execute_result"
    }
   ],
   "source": [
    "precision = TP/(TP+FP)\n",
    "precision"
   ]
  },
  {
   "cell_type": "code",
   "execution_count": 153,
   "metadata": {},
   "outputs": [],
   "source": [
    "from sklearn.metrics import f1_score,roc_curve,auc"
   ]
  },
  {
   "cell_type": "code",
   "execution_count": 154,
   "metadata": {},
   "outputs": [
    {
     "data": {
      "text/plain": [
       "0.029629629629629627"
      ]
     },
     "execution_count": 154,
     "metadata": {},
     "output_type": "execute_result"
    }
   ],
   "source": [
    "f1_score(y_test,y_pred)"
   ]
  },
  {
   "cell_type": "code",
   "execution_count": 155,
   "metadata": {},
   "outputs": [
    {
     "data": {
      "text/plain": [
       "0.029629629629629627"
      ]
     },
     "execution_count": 155,
     "metadata": {},
     "output_type": "execute_result"
    }
   ],
   "source": [
    "(2*precision*recall)/(precision+recall)"
   ]
  },
  {
   "cell_type": "code",
   "execution_count": 156,
   "metadata": {},
   "outputs": [
    {
     "data": {
      "text/plain": [
       "array([[0.92105263, 0.07894737],\n",
       "       [0.98386754, 0.01613246],\n",
       "       [0.98386754, 0.01613246],\n",
       "       ...,\n",
       "       [1.        , 0.        ],\n",
       "       [0.92105263, 0.07894737],\n",
       "       [0.98386754, 0.01613246]])"
      ]
     },
     "execution_count": 156,
     "metadata": {},
     "output_type": "execute_result"
    }
   ],
   "source": [
    "prob"
   ]
  },
  {
   "cell_type": "code",
   "execution_count": 157,
   "metadata": {},
   "outputs": [],
   "source": [
    "prob_positive = prob[:,1]"
   ]
  },
  {
   "cell_type": "code",
   "execution_count": 158,
   "metadata": {},
   "outputs": [],
   "source": [
    "fpr, tpr, threshold = roc_curve(y_test,prob_positive)"
   ]
  },
  {
   "cell_type": "code",
   "execution_count": 159,
   "metadata": {},
   "outputs": [
    {
     "data": {
      "text/html": [
       "<div>\n",
       "<style scoped>\n",
       "    .dataframe tbody tr th:only-of-type {\n",
       "        vertical-align: middle;\n",
       "    }\n",
       "\n",
       "    .dataframe tbody tr th {\n",
       "        vertical-align: top;\n",
       "    }\n",
       "\n",
       "    .dataframe thead th {\n",
       "        text-align: right;\n",
       "    }\n",
       "</style>\n",
       "<table border=\"1\" class=\"dataframe\">\n",
       "  <thead>\n",
       "    <tr style=\"text-align: right;\">\n",
       "      <th></th>\n",
       "      <th>threshold</th>\n",
       "      <th>fpr</th>\n",
       "      <th>tpr</th>\n",
       "    </tr>\n",
       "  </thead>\n",
       "  <tbody>\n",
       "    <tr>\n",
       "      <th>0</th>\n",
       "      <td>1.515625</td>\n",
       "      <td>0.000000</td>\n",
       "      <td>0.000000</td>\n",
       "    </tr>\n",
       "    <tr>\n",
       "      <th>1</th>\n",
       "      <td>0.515625</td>\n",
       "      <td>0.001754</td>\n",
       "      <td>0.015326</td>\n",
       "    </tr>\n",
       "    <tr>\n",
       "      <th>2</th>\n",
       "      <td>0.267613</td>\n",
       "      <td>0.184497</td>\n",
       "      <td>0.689655</td>\n",
       "    </tr>\n",
       "    <tr>\n",
       "      <th>3</th>\n",
       "      <td>0.105995</td>\n",
       "      <td>0.243774</td>\n",
       "      <td>0.747126</td>\n",
       "    </tr>\n",
       "    <tr>\n",
       "      <th>4</th>\n",
       "      <td>0.078947</td>\n",
       "      <td>0.358471</td>\n",
       "      <td>0.854406</td>\n",
       "    </tr>\n",
       "  </tbody>\n",
       "</table>\n",
       "</div>"
      ],
      "text/plain": [
       "   threshold       fpr       tpr\n",
       "0   1.515625  0.000000  0.000000\n",
       "1   0.515625  0.001754  0.015326\n",
       "2   0.267613  0.184497  0.689655\n",
       "3   0.105995  0.243774  0.747126\n",
       "4   0.078947  0.358471  0.854406"
      ]
     },
     "execution_count": 159,
     "metadata": {},
     "output_type": "execute_result"
    }
   ],
   "source": [
    "ftt = pd.DataFrame(np.hstack((threshold.reshape(-1,1),fpr.reshape(-1,1),tpr.reshape(-1,1))),columns = ['threshold','fpr','tpr'])\n",
    "ftt.head()"
   ]
  },
  {
   "cell_type": "code",
   "execution_count": 160,
   "metadata": {},
   "outputs": [
    {
     "data": {
      "text/plain": [
       "0.8067082733624419"
      ]
     },
     "execution_count": 160,
     "metadata": {},
     "output_type": "execute_result"
    }
   ],
   "source": [
    "roc_auc = auc(fpr,tpr)\n",
    "roc_auc"
   ]
  },
  {
   "cell_type": "code",
   "execution_count": 161,
   "metadata": {},
   "outputs": [],
   "source": [
    "def compute_auc(test, train_instance):\n",
    "    probs = train_instance.predict_proba(test)\n",
    "    prob_positive = probs[:,1]\n",
    "    fpr, tpr, threshold = roc_curve(y_test,prob_positive)\n",
    "    roc_auc = auc(fpr,tpr)\n",
    "    return roc_auc,fpr,tpr"
   ]
  },
  {
   "cell_type": "code",
   "execution_count": 162,
   "metadata": {},
   "outputs": [
    {
     "data": {
      "text/plain": [
       "0.8067082733624419"
      ]
     },
     "execution_count": 162,
     "metadata": {},
     "output_type": "execute_result"
    }
   ],
   "source": [
    "roc_auc, fpr, tpr = compute_auc(X_test,dectree_train)\n",
    "roc_auc"
   ]
  },
  {
   "cell_type": "code",
   "execution_count": 163,
   "metadata": {},
   "outputs": [],
   "source": [
    "import matplotlib.pyplot as plt"
   ]
  },
  {
   "cell_type": "code",
   "execution_count": 164,
   "metadata": {},
   "outputs": [],
   "source": [
    "def plot_ROC(roc,fpr,tpr):\n",
    "    plt.title(\"receiver Operating Charecteristc\")\n",
    "    plt.plot(fpr,tpr,'red',label = 'AUC=%0.2f'% roc)\n",
    "    plt.legend(loc = 'lower right')\n",
    "    plt.plot([0,1],[0,1], color = 'darkblue',linestyle='--')\n",
    "    plt.ylabel('True positive Rate')\n",
    "    plt.xlabel('False positive Rate')\n",
    "    plt.show()"
   ]
  },
  {
   "cell_type": "code",
   "execution_count": 165,
   "metadata": {},
   "outputs": [
    {
     "data": {
      "image/png": "[encoded data removed]",
      "text/plain": [
       "<Figure size 432x288 with 1 Axes>"
      ]
     },
     "metadata": {
      "needs_background": "light"
     },
     "output_type": "display_data"
    }
   ],
   "source": [
    "plot_ROC(roc_auc,fpr,tpr)"
   ]
  },
  {
   "cell_type": "code",
   "execution_count": 166,
   "metadata": {},
   "outputs": [
    {
     "data": {
      "image/png": "[encoded data removed]",
      "text/plain": [
       "<IPython.core.display.Image object>"
      ]
     },
     "metadata": {},
     "output_type": "display_data"
    }
   ],
   "source": [
    "def display_image(clf, X_labels, y_labels):\n",
    "    \"\"\"\n",
    "    Prerequiste: \n",
    "        install pydotplus with ->  conda install -c conda-forge pydotplus \n",
    "        install graphviz with -> brew install graphviz\n",
    "        \n",
    "        \n",
    "    Installing dependencies for graphviz: \n",
    "    libpng, freetype, fontconfig, jpeg, libtiff, webp, gd, pcre, gdbm,\n",
    "    mpdecimal, sqlite, xz, python@3.9, glib, jasper, netpbm,\n",
    "    gts, libpthread-stubs, xorgproto, libxau, libxdmcp,\n",
    "    libxcb, libx11, libxext, libxrender, lzo, pixman, cairo,\n",
    "    gdk-pixbuf, fribidi, gobject-introspection, graphite2,\n",
    "    icu4c, harfbuzz, pango and librsvg\n",
    "    \n",
    "    \n",
    "    Displays the decision tree image\n",
    " \n",
    "    :param clf:     classifier instance\n",
    "    :param X_labels\n",
    "    :param y_labels\n",
    "    \n",
    "    \"\"\"\n",
    "    dot_data = export_graphviz(clf, out_file=None,\n",
    "                                    feature_names=X_labels,\n",
    "#                                     class_names=iris.target_names,\n",
    "                                    filled=True, rounded=True)\n",
    " \n",
    "    graph = pydotplus.graph_from_dot_data(dot_data)\n",
    "    display(Image(data=graph.create_png()))\n",
    "\n",
    "\n",
    "display_image(clf=dectree_train, X_labels=X_labels, y_labels=y_labels)"
   ]
  },
  {
   "cell_type": "code",
   "execution_count": null,
   "metadata": {},
   "outputs": [],
   "source": []
  }
 ],
 "metadata": {
  "kernelspec": {
   "display_name": "Python 3",
   "language": "python",
   "name": "python3"
  },
  "language_info": {
   "codemirror_mode": {
    "name": "ipython",
    "version": 3
   },
   "file_extension": ".py",
   "mimetype": "text/x-python",
   "name": "python",
   "nbconvert_exporter": "python",
   "pygments_lexer": "ipython3",
   "version": "3.8.8"
  }
 },
 "nbformat": 4,
 "nbformat_minor": 2
}
