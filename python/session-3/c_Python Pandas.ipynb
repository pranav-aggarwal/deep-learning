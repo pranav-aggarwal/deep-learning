{
 "cells": [
  {
   "cell_type": "markdown",
   "metadata": {},
   "source": [
    "## Python Pandas : Handling Structured Data using Pandas\n",
    "\n",
    "Pandas is a fast, powerful, flexible and easy to use open source data analysis and manipulation tool,\n",
    "built on top of the Python programming language. In this session we are going to learn about\n",
    " - DataFrames and Series in Python Pandas\n",
    " - Creating DataFrames and loading data into Pandas\n",
    " - Indexing, Slicing data\n",
    " - Sorting, Filtering, Groupby, Pivot functionalities\n",
    " - Merging dataframes\n",
    " \n",
    "\n",
    "## Series and DataFrame\n",
    "\n",
    "When we work with tabular data, pandas help us explore, clean and process the data. This tabular data is called as a DataFrame in pandas. A dataframe can be visually represented as follows\n",
    "\n",
    "<img src=\"https://storage.googleapis.com/lds-media/images/series-and-dataframe.width-1200.png\" height=400 width=400>\n"
   ]
  },
  {
   "cell_type": "code",
   "execution_count": 3,
   "metadata": {},
   "outputs": [
    {
     "data": {
      "text/plain": [
       "'1.0.5'"
      ]
     },
     "execution_count": 3,
     "metadata": {},
     "output_type": "execute_result"
    }
   ],
   "source": [
    "# import pandas library\n",
    "import pandas as pd\n",
    "\n",
    "# check the version of pandas\n",
    "pd.__version__"
   ]
  },
  {
   "cell_type": "markdown",
   "metadata": {},
   "source": [
    "\n",
    "### Working with Cricket Match Data\n",
    "\n",
    "To learn about dataframes there is no better way than to work with real data and hence we will learn all the functionalities in pandas using this online retail data.\n",
    "\n",
    "This is a dataset for ODI Cricket mathces downloaded from https://cricsheet.org/.\n",
    "\n",
    "Description as follows. \n",
    "\n",
    "  * match_id\n",
    "  * season\n",
    "  * start_date\n",
    "  * venue\n",
    "  * innings\n",
    "  * ball\n",
    "  * batting_team\n",
    "  * bowling_team\n",
    "  * striker\n",
    "  * non_striker\n",
    "  * bowler\n",
    "  * runs_off_bat\n",
    "  * extras\n",
    "  * wides\n",
    "  * noballs\n",
    "  * byes\n",
    "  * legbyes\n",
    "  * penalty\n",
    "  * wicket_type\n",
    "  * player_dismissed\n",
    "  * other_wicket_type\n",
    "  * other_player_dismissed\n",
    "\n",
    "Most of the fields above should, hopefully, be self-explanatory, but some may\n",
    "benefit from clarification...\n",
    "\n",
    " - \"innings\" contains the number of the innings within the match. If a match is one that would normally have 2 innings, such as a T20 or ODI, then any innings of more than 2 can be regarded as a super over.\n",
    "\n",
    " - \"ball\" is a combination of the over and delivery. For example, \"0.3\" represents the 3rd ball of the 1st over.\n",
    "\n",
    " - \"wides\", \"noballs\", \"byes\", \"legbyes\", and \"penalty\" contain the total of each particular type of extras, or are blank if not relevant to the delivery.\n",
    "\n",
    " - If a wicket occurred on a delivery then \"wicket_type\" will contain the method of dismissal, while \"player_dismissed\" will indicate who was dismissed. There is also the, admittedly remote, possibility that a second dismissal can be recorded on the delivery (such as when a player retires on the same delivery as another dismissal occurs). In this case \"other_wicket_type\" will record the reason, while \"other_player_dismissed\" will show who was dismissed.\n"
   ]
  },
  {
   "cell_type": "code",
   "execution_count": 6,
   "metadata": {},
   "outputs": [
    {
     "name": "stdout",
     "output_type": "stream",
     "text": [
      "   match_id  season  start_date          venue  innings  ball batting_team  \\\n",
      "0    211028    2005  2005-06-13  The Rose Bowl        1   0.1      England   \n",
      "1    211028    2005  2005-06-13  The Rose Bowl        1   0.2      England   \n",
      "2    211028    2005  2005-06-13  The Rose Bowl        1   0.3      England   \n",
      "3    211028    2005  2005-06-13  The Rose Bowl        1   0.4      England   \n",
      "4    211028    2005  2005-06-13  The Rose Bowl        1   0.5      England   \n",
      "\n",
      "  bowling_team         striker     non_striker  ... extras  wides  noballs  \\\n",
      "0    Australia  ME Trescothick        GO Jones  ...      0    NaN      NaN   \n",
      "1    Australia  ME Trescothick        GO Jones  ...      0    NaN      NaN   \n",
      "2    Australia        GO Jones  ME Trescothick  ...      0    NaN      NaN   \n",
      "3    Australia        GO Jones  ME Trescothick  ...      0    NaN      NaN   \n",
      "4    Australia        GO Jones  ME Trescothick  ...      0    NaN      NaN   \n",
      "\n",
      "   byes  legbyes  penalty  wicket_type  player_dismissed other_wicket_type  \\\n",
      "0   NaN      NaN      NaN          NaN               NaN               NaN   \n",
      "1   NaN      NaN      NaN          NaN               NaN               NaN   \n",
      "2   NaN      NaN      NaN          NaN               NaN               NaN   \n",
      "3   NaN      NaN      NaN          NaN               NaN               NaN   \n",
      "4   NaN      NaN      NaN          NaN               NaN               NaN   \n",
      "\n",
      "  other_player_dismissed  \n",
      "0                    NaN  \n",
      "1                    NaN  \n",
      "2                    NaN  \n",
      "3                    NaN  \n",
      "4                    NaN  \n",
      "\n",
      "[5 rows x 22 columns]\n",
      "     match_id  season  start_date          venue  innings  ball batting_team  \\\n",
      "213    211028    2005  2005-06-13  The Rose Bowl        2  14.2    Australia   \n",
      "214    211028    2005  2005-06-13  The Rose Bowl        2  14.3    Australia   \n",
      "\n",
      "    bowling_team     striker    non_striker  ... extras  wides  noballs  byes  \\\n",
      "213      England  GD McGrath  MS Kasprowicz  ...      0    NaN      NaN   NaN   \n",
      "214      England  GD McGrath  MS Kasprowicz  ...      0    NaN      NaN   NaN   \n",
      "\n",
      "     legbyes  penalty  wicket_type  player_dismissed other_wicket_type  \\\n",
      "213      NaN      NaN          NaN               NaN               NaN   \n",
      "214      NaN      NaN       bowled        GD McGrath               NaN   \n",
      "\n",
      "    other_player_dismissed  \n",
      "213                    NaN  \n",
      "214                    NaN  \n",
      "\n",
      "[2 rows x 22 columns]\n"
     ]
    }
   ],
   "source": [
    "# let us load the dataset into a pandas dataframe\n",
    "df = pd.read_csv(\"t20s_male_csv/211028.csv\")\n",
    "\n",
    "# preview your dataframe head and tail\n",
    "\n",
    "print(df.head())\n",
    "\n",
    "print(df.tail(2))\n"
   ]
  },
  {
   "cell_type": "code",
   "execution_count": 8,
   "metadata": {},
   "outputs": [
    {
     "name": "stdout",
     "output_type": "stream",
     "text": [
      "shape of the data (215, 22)\n",
      "<class 'pandas.core.frame.DataFrame'>\n",
      "RangeIndex: 215 entries, 0 to 214\n",
      "Data columns (total 22 columns):\n",
      " #   Column                  Non-Null Count  Dtype  \n",
      "---  ------                  --------------  -----  \n",
      " 0   match_id                215 non-null    int64  \n",
      " 1   season                  215 non-null    int64  \n",
      " 2   start_date              215 non-null    object \n",
      " 3   venue                   215 non-null    object \n",
      " 4   innings                 215 non-null    int64  \n",
      " 5   ball                    215 non-null    float64\n",
      " 6   batting_team            215 non-null    object \n",
      " 7   bowling_team            215 non-null    object \n",
      " 8   striker                 215 non-null    object \n",
      " 9   non_striker             215 non-null    object \n",
      " 10  bowler                  215 non-null    object \n",
      " 11  runs_off_bat            215 non-null    int64  \n",
      " 12  extras                  215 non-null    int64  \n",
      " 13  wides                   4 non-null      float64\n",
      " 14  noballs                 4 non-null      float64\n",
      " 15  byes                    1 non-null      float64\n",
      " 16  legbyes                 3 non-null      float64\n",
      " 17  penalty                 0 non-null      float64\n",
      " 18  wicket_type             18 non-null     object \n",
      " 19  player_dismissed        18 non-null     object \n",
      " 20  other_wicket_type       0 non-null      float64\n",
      " 21  other_player_dismissed  0 non-null      float64\n",
      "dtypes: float64(8), int64(5), object(9)\n",
      "memory usage: 37.1+ KB\n"
     ]
    }
   ],
   "source": [
    "# information about the records in the dataframe \n",
    "\n",
    "print(\"shape of the data\", df.shape)\n",
    "\n",
    "df.info()"
   ]
  },
  {
   "cell_type": "code",
   "execution_count": 3,
   "metadata": {},
   "outputs": [],
   "source": [
    "# summary statistics of dataframe\n"
   ]
  },
  {
   "cell_type": "code",
   "execution_count": 4,
   "metadata": {},
   "outputs": [],
   "source": [
    "# column names\n",
    "\n",
    "\n",
    "# rename column names (take care of inplace)\n"
   ]
  },
  {
   "cell_type": "code",
   "execution_count": 5,
   "metadata": {},
   "outputs": [],
   "source": [
    "# set match_id to index and remove match_id columnindex\n",
    "\n"
   ]
  },
  {
   "cell_type": "markdown",
   "metadata": {},
   "source": [
    "## Indexing, slicing and filtering"
   ]
  },
  {
   "cell_type": "code",
   "execution_count": 6,
   "metadata": {},
   "outputs": [],
   "source": [
    "# indexing and slicing in pandas : subset, loc, iloc\n",
    "\n",
    "# extract only columsn of batting_team, striker and runs_off_bat\n",
    "\n"
   ]
  },
  {
   "cell_type": "code",
   "execution_count": 7,
   "metadata": {},
   "outputs": [],
   "source": [
    "# extract data using indexing iloc\n",
    "# find data for first 36 balls bowled\n",
    "\n"
   ]
  },
  {
   "cell_type": "code",
   "execution_count": 8,
   "metadata": {},
   "outputs": [],
   "source": [
    "# extract data for all the balls on which a boundry is hit\n",
    "\n"
   ]
  },
  {
   "cell_type": "code",
   "execution_count": 9,
   "metadata": {},
   "outputs": [],
   "source": [
    "# using loc find boundry (4) and the striker\n"
   ]
  },
  {
   "cell_type": "code",
   "execution_count": 10,
   "metadata": {},
   "outputs": [],
   "source": [
    "# using loc find boundry (4 & 6) and the striker\n",
    "\n"
   ]
  },
  {
   "cell_type": "markdown",
   "metadata": {},
   "source": [
    "## Summarizing data"
   ]
  },
  {
   "cell_type": "code",
   "execution_count": 11,
   "metadata": {},
   "outputs": [],
   "source": [
    "# unique values and value counts\n",
    "\n",
    "# find the batsmen who were on strike in the match\n",
    "\n"
   ]
  },
  {
   "cell_type": "code",
   "execution_count": 12,
   "metadata": {},
   "outputs": [],
   "source": [
    "# find the run score method\n",
    "\n"
   ]
  },
  {
   "cell_type": "code",
   "execution_count": 13,
   "metadata": {},
   "outputs": [],
   "source": [
    "# calculate total and average\n"
   ]
  },
  {
   "cell_type": "code",
   "execution_count": 14,
   "metadata": {},
   "outputs": [],
   "source": [
    "# group by\n",
    "# calculate the runs scored by each batsmen\n",
    "\n",
    "\n"
   ]
  },
  {
   "cell_type": "code",
   "execution_count": 15,
   "metadata": {},
   "outputs": [],
   "source": [
    "#pivot table\n"
   ]
  }
 ],
 "metadata": {
  "kernelspec": {
   "display_name": "Python 3",
   "language": "python",
   "name": "python3"
  },
  "language_info": {
   "codemirror_mode": {
    "name": "ipython",
    "version": 3
   },
   "file_extension": ".py",
   "mimetype": "text/x-python",
   "name": "python",
   "nbconvert_exporter": "python",
   "pygments_lexer": "ipython3",
   "version": "3.8.3"
  }
 },
 "nbformat": 4,
 "nbformat_minor": 4
}
