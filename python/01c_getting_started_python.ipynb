{
 "cells": [
  {
   "cell_type": "markdown",
   "metadata": {},
   "source": [
    "# Session 1 - Getting Started with Python\n",
    "\n",
    "In the pre-requisite module we have already learned why Python has become a de-facto language for data science, in this video we are going to learn core programming terminologies and principles using Python. People who have prior programming experience might have worked with these principles before. The agenda of this session is to cover the following topics\n",
    "\n",
    "\n",
    " - Review of concpets\n",
    "     - Using Variables and Types of Variables in Python\n",
    "     - Operators in Python\n",
    "     - Basic Data Structures (List, Tuple, Set, Dictionary)\n",
    "     - Conditional statement (if elif else)\n",
    "     - Loop constructus (for, while)\n",
    "     - Code indentation in Python\n",
    " - Practice challenges"
   ]
  },
  {
   "cell_type": "markdown",
   "metadata": {},
   "source": [
    "## Variable and Types of Variables\n",
    " - integer\n",
    " - float\n",
    " - string\n",
    " - boolean\n",
    " "
   ]
  },
  {
   "cell_type": "code",
   "execution_count": 2,
   "metadata": {},
   "outputs": [
    {
     "name": "stdout",
     "output_type": "stream",
     "text": [
      "heloo\n"
     ]
    }
   ],
   "source": [
    "# numbers\n",
    "\n"
   ]
  },
  {
   "cell_type": "code",
   "execution_count": 9,
   "metadata": {},
   "outputs": [
    {
     "name": "stdout",
     "output_type": "stream",
     "text": [
      "value of z is 8\n",
      "value of zz is 0.6\n",
      "type of variable z <class 'int'>\n",
      "type of variable zz <class 'float'>\n"
     ]
    }
   ],
   "source": [
    "# in this code block, anything followed by a # symbol will not be executed. These are called as comments\n",
    "\n",
    "\n",
    "# assign value 3 to variable x\n",
    "x = 3\n",
    "\n",
    "# assign value 5 to variable y\n",
    "\n",
    "y = 5\n",
    "# add x & y and assign the value to another variable z\n",
    "\n",
    "z = x+y\n",
    "zz = x/y\n",
    "# print the value of z\n",
    "print(\"value of z is\", z)\n",
    "print(\"value of zz is\", zz)\n",
    "\n",
    "# use type() to find the type of variables\n",
    "\n",
    "print(\"type of variable z\", type(z))\n",
    "print(\"type of variable zz\", type(zz))"
   ]
  },
  {
   "cell_type": "code",
   "execution_count": 12,
   "metadata": {},
   "outputs": [
    {
     "name": "stdout",
     "output_type": "stream",
     "text": [
      "Data Science\n",
      "type of subject <class 'str'>\n"
     ]
    },
    {
     "data": {
      "text/plain": [
       "12"
      ]
     },
     "execution_count": 12,
     "metadata": {},
     "output_type": "execute_result"
    }
   ],
   "source": [
    "# string variables\n",
    "\n",
    "subject = \"Data Science\"\n",
    "\n",
    "print(subject)\n",
    "\n",
    "print(\"type of subject\", type(subject))\n",
    "\n",
    "#length of string\n",
    "len(subject)\n"
   ]
  },
  {
   "cell_type": "code",
   "execution_count": 33,
   "metadata": {},
   "outputs": [
    {
     "name": "stdout",
     "output_type": "stream",
     "text": [
      "Data\n",
      "t\n",
      "t\n"
     ]
    }
   ],
   "source": [
    "# slicing strings\n",
    "\n",
    "# [from : to]\n",
    "print(subject[0:4])\n",
    "# print 3rd character in the string\n",
    "print(subject[2])\n",
    "print(subject[2:3])\n"
   ]
  },
  {
   "cell_type": "code",
   "execution_count": 34,
   "metadata": {},
   "outputs": [
    {
     "name": "stdout",
     "output_type": "stream",
     "text": [
      "yes\n",
      "no\n",
      "Type of t and tt <class 'bool'> <class 'bool'>\n"
     ]
    }
   ],
   "source": [
    "# boolean variable\n",
    "t = True\n",
    "tt = False\n",
    "if t:\n",
    "    print('yes')\n",
    "if not tt:\n",
    "    print('no')\n",
    "    \n",
    "print(\"Type of t and tt\", type(t), type(tt))"
   ]
  },
  {
   "cell_type": "markdown",
   "metadata": {},
   "source": [
    "## Operators in Python"
   ]
  },
  {
   "cell_type": "code",
   "execution_count": 44,
   "metadata": {},
   "outputs": [
    {
     "name": "stdout",
     "output_type": "stream",
     "text": [
      "sum, 5\n",
      "difference, -9\n",
      "multiple, -14\n",
      "division, -0.2857142857142857\n",
      "mode, 5\n",
      "quotient, -1\n",
      "a exponent b, -128\n"
     ]
    }
   ],
   "source": [
    "# arithmetic operators\n",
    "\n",
    "a = -2\n",
    "b = 7\n",
    "\n",
    "print(\"sum,\", a + b) \n",
    "print(\"difference,\", a - b)\n",
    "print(\"multiple,\", a * b)\n",
    "print(\"division,\", a / b)\n",
    "print(\"mode,\", a % b) # Mode\n",
    "print(\"quotient,\", a // b) # quotient\n",
    "print(\"a exponent b,\", a ** b) #Exponent (power)\n",
    "\n"
   ]
  },
  {
   "cell_type": "code",
   "execution_count": 40,
   "metadata": {},
   "outputs": [
    {
     "name": "stdout",
     "output_type": "stream",
     "text": [
      "is a equal to b: False\n",
      "is a greater than b: False\n",
      "is a less than b: True\n",
      "is a greater than equal to b: False\n",
      "is a less than equal to b: True\n",
      "is a not equal to b: True\n"
     ]
    }
   ],
   "source": [
    "# comparison operators (boolean)\n",
    "print(\"is a equal to b:\", a == b)\n",
    "print(\"is a greater than b:\", a > b)\n",
    "print(\"is a less than b:\", a < b)\n",
    "print(\"is a greater than equal to b:\", a>=b)\n",
    "print(\"is a less than equal to b:\", a<=b)\n",
    "print(\"is a not equal to b:\", a!=b)"
   ]
  },
  {
   "cell_type": "code",
   "execution_count": 48,
   "metadata": {
    "scrolled": true
   },
   "outputs": [
    {
     "name": "stdout",
     "output_type": "stream",
     "text": [
      "Not of a, False\n",
      "a or b True\n",
      "b or d False\n",
      "a and b False\n",
      "not of a and b True\n"
     ]
    }
   ],
   "source": [
    "# logical operatos (boolean)\n",
    "\n",
    "a = True\n",
    "b = False\n",
    "c = True\n",
    "d = False\n",
    "\n",
    "# not operator\n",
    "print(\"Not of a,\", not a)\n",
    "\n",
    "# or operator : any one value should be true\n",
    "print(\"a or b\", a or b)\n",
    "print(\"b or d\", b or d)\n",
    "\n",
    "# and operator : all the values should be true for TRUE answer\n",
    "print(\"a and b\", a and b)\n",
    "\n",
    "print(\"not of a and b\", not (a and b))\n"
   ]
  },
  {
   "cell_type": "markdown",
   "metadata": {},
   "source": [
    "## Basic Data Structures in Python\n",
    " - List\n",
    " - Tuple\n",
    " - Set\n",
    " - Dictionary"
   ]
  },
  {
   "cell_type": "code",
   "execution_count": 60,
   "metadata": {},
   "outputs": [
    {
     "name": "stdout",
     "output_type": "stream",
     "text": [
      "[10, 12, 15, 15, 17, 12]\n",
      "['Chenmay', '34', 'TN', [23, 34], 45.3]\n"
     ]
    }
   ],
   "source": [
    "# list is an ordered - mutable data structure\n",
    "\n",
    "\n",
    "age = [10, 12, 15, 15, 17, 12]\n",
    "details = [\"Chenmay\", \"34\", \"TN\", [23, 34], 45.3]\n",
    "# list can hold different types of data\n",
    "print(age)\n",
    "print(details)\n",
    "\n",
    "for t in details:\n",
    "    if type(t) == list:\n",
    "        print(\"list found\", t)"
   ]
  },
  {
   "cell_type": "code",
   "execution_count": 71,
   "metadata": {},
   "outputs": [
    {
     "name": "stdout",
     "output_type": "stream",
     "text": [
      "['b', 'c', 'd']\n",
      "['a', 'b', 'c', 'd']\n",
      "['c', 'd', 'e', 'f']\n",
      "['c']\n"
     ]
    }
   ],
   "source": [
    "# Index from rear:    -6  -5  -4  -3  -2  -1     \n",
    "# Index from front:    0   1   2   3   4   5      \n",
    "#                    +---+---+---+---+---+---+    \n",
    "#                    | a | b | c | d | e | f |    \n",
    "#                    +---+---+---+---+---+---+    \n",
    "\n",
    "# refering to elements inside a list - indexing\n",
    "chars = ['a', 'b', 'c', 'd', 'e', 'f']\n",
    "print(chars[1:4])\n",
    "print(chars[:4])\n",
    "print(chars[2:])\n",
    "\n",
    "#Negative indexing\n",
    "print(chars[-4:-3])"
   ]
  },
  {
   "cell_type": "code",
   "execution_count": 73,
   "metadata": {},
   "outputs": [
    {
     "name": "stdout",
     "output_type": "stream",
     "text": [
      "['b', 'd']\n"
     ]
    }
   ],
   "source": [
    "#slicing list\n",
    "\n",
    "#[from:to:step] skip\n",
    "print(chars[1:4:2])"
   ]
  },
  {
   "cell_type": "code",
   "execution_count": 84,
   "metadata": {},
   "outputs": [
    {
     "name": "stdout",
     "output_type": "stream",
     "text": [
      "[10, 12, 15, 15, 17, 12, 34, 34, 34, 34]\n",
      "[10, 12, 15, 15, 17, 12, 34, 34, 34]\n"
     ]
    }
   ],
   "source": [
    "# change values in the list append, pop, extend\n",
    "\n",
    "age.append(34)\n",
    "print(age)\n",
    "age.pop(len(age)-1)\n",
    "print(age)"
   ]
  },
  {
   "cell_type": "code",
   "execution_count": 92,
   "metadata": {},
   "outputs": [
    {
     "name": "stdout",
     "output_type": "stream",
     "text": [
      "[10, 12, 15, 15, 17, 12, 34, 34, 34, [23, 43, 22, 34], [23, 43, 22, 34], [23, 43, 22, 34], [23, 43, 22, 34], [23, 43, 22, 34]]\n",
      "[10, 12, 15, 15, 17, 12, 23, 43, 22, 34]\n"
     ]
    }
   ],
   "source": [
    "# extend vs append\n",
    "age2 = [23, 43, 22,  34]\n",
    "age.append(age2)\n",
    "print(age)\n",
    "\n",
    "age3 = [10, 12, 15, 15, 17, 12]\n",
    "age3.extend(age2)\n",
    "print(age3)"
   ]
  },
  {
   "cell_type": "markdown",
   "metadata": {},
   "source": [
    "## Tuples"
   ]
  },
  {
   "cell_type": "code",
   "execution_count": 97,
   "metadata": {},
   "outputs": [
    {
     "name": "stdout",
     "output_type": "stream",
     "text": [
      "<class 'tuple'>\n"
     ]
    },
    {
     "data": {
      "text/plain": [
       "6"
      ]
     },
     "execution_count": 97,
     "metadata": {},
     "output_type": "execute_result"
    }
   ],
   "source": [
    "# tuples are immutable - ordered data structures\n",
    "\n",
    "a = (2,4,6,8,10)\n",
    "print(type(a))\n",
    "a[2]"
   ]
  },
  {
   "cell_type": "markdown",
   "metadata": {},
   "source": [
    "## Sets"
   ]
  },
  {
   "cell_type": "code",
   "execution_count": 19,
   "metadata": {},
   "outputs": [
    {
     "name": "stdout",
     "output_type": "stream",
     "text": [
      "{'Nice', 'Paris', 'Antibes'}\n",
      "{'Nice', 'Lille', 'Paris', 'Antibes'}\n",
      "{'Frankfurt', 'Dusseldorf'}\n",
      "{'Lille', 'Paris', 'Frankfurt', 'Dusseldorf', 'Nice', 'Antibes'}\n",
      "{'Frankfurt', 'Dusseldorf'}\n"
     ]
    }
   ],
   "source": [
    "# a set is an unordered and unindexed collection which holds only unique values\n",
    "\n",
    "french_cities = {\"Paris\", \"Nice\", \"Antibes\", \"Nice\"}\n",
    "print(french_cities)\n",
    "german_cities = {\"Dusseldorf\", \"Berlin\", \"Frankfurt\"}\n",
    "# add\n",
    "french_cities.add(\"Lille\")\n",
    "print(french_cities)\n",
    "\n",
    "# remove\n",
    "\n",
    "german_cities.remove(\"Berlin\")\n",
    "print(german_cities)\n",
    "\n",
    "\n",
    "# unions\n",
    "eu_cities = german_cities.union(french_cities)\n",
    "print(eu_cities)\n",
    "# intersection\n",
    "eu_cities_ex_german = eu_cities.intersection(german_cities)\n",
    "print(eu_cities_ex_german)"
   ]
  },
  {
   "cell_type": "markdown",
   "metadata": {},
   "source": [
    "## Dictionary"
   ]
  },
  {
   "cell_type": "code",
   "execution_count": 21,
   "metadata": {},
   "outputs": [],
   "source": [
    "# dictionary is a mutable, indexed collection used in python. The data is represented as key value pairs in a dictionary\n",
    "\n",
    "# key:value\n",
    "cars = {\"make\": \"Honda\", \"model\": \"WRV\", \"fuel\": \"Disel\", \"Year\": 2017}\n"
   ]
  },
  {
   "cell_type": "code",
   "execution_count": 25,
   "metadata": {},
   "outputs": [
    {
     "name": "stdout",
     "output_type": "stream",
     "text": [
      "{'make': 'Honda', 'model': 'WRV', 'fuel': 'Disel', 'Year': 2017, 'color': 'mettalic grey'}\n",
      "{'make': 'Honda', 'model': 'WRV', 'fuel': 'Disel', 'color': 'mettalic grey'}\n"
     ]
    }
   ],
   "source": [
    "# add and remove the items\n",
    "cars[\"color\"] = \"mettalic grey\"\n",
    "print(cars)\n",
    "cars.pop(\"Year\")\n",
    "print(cars)\n"
   ]
  },
  {
   "cell_type": "markdown",
   "metadata": {},
   "source": [
    "## Conditional statement\n",
    "\n",
    "Many a times in programming we need to change the flow of the program based on certain conditions and this is where conditional statements come into the picture. They are used if we want to execute certain piece of code based on single or multiple criterion.\n",
    "\n",
    "if-elif-else"
   ]
  },
  {
   "cell_type": "code",
   "execution_count": 16,
   "metadata": {},
   "outputs": [],
   "source": [
    "# if elif else statement\n"
   ]
  },
  {
   "cell_type": "markdown",
   "metadata": {},
   "source": [
    "## Loops\n",
    "\n",
    " - for\n",
    " - while\n",
    " \n",
    " range() method"
   ]
  },
  {
   "cell_type": "code",
   "execution_count": null,
   "metadata": {},
   "outputs": [],
   "source": []
  },
  {
   "cell_type": "code",
   "execution_count": null,
   "metadata": {},
   "outputs": [],
   "source": []
  },
  {
   "cell_type": "markdown",
   "metadata": {},
   "source": [
    "## Challenge 0: Warm up\n",
    "\n",
    " - Write a program to calculate the sum on first n natural numbers\n",
    " - Write a program to print all characters in string one by one using for loop\n",
    " - write a program to calcualte odd and even integers in a list nums = [187, 23662, 1920, 2235, 71, 987, 22, 193]"
   ]
  },
  {
   "cell_type": "code",
   "execution_count": 104,
   "metadata": {},
   "outputs": [
    {
     "name": "stdout",
     "output_type": "stream",
     "text": [
      "10\n",
      "Sum of natural numbers from 1 to  10  =  55\n",
      "55\n"
     ]
    }
   ],
   "source": [
    "# calculate sum of first n natural number\n",
    "\n",
    "n = input()\n",
    "try:\n",
    "    n = int(n)\n",
    "    print(\"Sum of natural numbers from 1 to \", n, \" = \", int(n*(n+1)/2))\n",
    "    sum = 0\n",
    "    for i in range(1, n+1):\n",
    "        sum = sum + i\n",
    "    print(sum)\n",
    "        \n",
    "except:\n",
    "    print(\"Wrong input, enter valid integer\")\n",
    "    \n",
    "    \n",
    "\n",
    "    "
   ]
  },
  {
   "cell_type": "code",
   "execution_count": 103,
   "metadata": {},
   "outputs": [
    {
     "name": "stdout",
     "output_type": "stream",
     "text": [
      "10\n",
      "1 0 "
     ]
    }
   ],
   "source": [
    "# Write a program to print all characters in string one by one using for loop\n",
    "\n",
    "text = input()\n",
    "for t in text:\n",
    "    print(t, end=\" \")    #print(string, end = {$})  end is used to define the last character, by default it is /n"
   ]
  },
  {
   "cell_type": "code",
   "execution_count": 109,
   "metadata": {},
   "outputs": [
    {
     "name": "stdout",
     "output_type": "stream",
     "text": [
      "odd 5 even 3\n"
     ]
    }
   ],
   "source": [
    "# write a program to calcualte odd and even integers in a list nums = [187, 23662, 1920, 2235, 71, 987, 22, 193]\n",
    "\n",
    "nums = [187, 23662, 1920, 2235, 71, 987, 22, 193]\n",
    "sep_nums = {\"odd\": [], \"even\": []}\n",
    "for n in nums:\n",
    "    if n%2 == 0:\n",
    "        sep_nums[\"even\"].append(n)\n",
    "    else:\n",
    "        sep_nums[\"odd\"].append(n)\n",
    "print('odd', len(sep_nums['odd']), \"even\", len(sep_nums['even']))"
   ]
  },
  {
   "cell_type": "markdown",
   "metadata": {},
   "source": [
    "## Challenge 1: Count vowels\n",
    "\n",
    "Write a program to calculate the number of vowels in a string\n"
   ]
  },
  {
   "cell_type": "code",
   "execution_count": 111,
   "metadata": {},
   "outputs": [
    {
     "name": "stdout",
     "output_type": "stream",
     "text": [
      "Enter the Word: Test Test\n",
      "{'e'}\n"
     ]
    }
   ],
   "source": [
    "vowels = frozenset([\"a\", \"A\", \"e\", \"E\", \"i\",\"I\" , \"o\", \"O\",  \"u\", \"U\"])\n",
    "\n",
    "allVowels = dict()\n",
    "total = 0\n",
    "\n",
    "text = input()\n",
    "for t in text:\n",
    "    if t in vowels:\n",
    "        total = total + 1\n",
    "        key = t.lower()\n",
    "        if key in allVowels.keys():\n",
    "            allVowels[key] = allVowels[key] + 1\n",
    "        else:\n",
    "            allVowels[key] = 1\n",
    "        \n",
    "print(allVowels)\n",
    "print('total vowels', total)\n",
    "\n",
    "\n",
    "# test = input(\"Enter the Word: \")\n",
    "# test = test.lower()\n",
    "# vowel=\"aeiou\"\n",
    "# foundVowels = set(test).intersection(vowel)\n",
    "# print(foundVowels)\n",
    "\n",
    "\n",
    "\n",
    "# str = input (\"Enter the string : \")\n",
    "\n",
    "# # Convert all alphabets in input string to lowercase\n",
    "# str = str.casefold()  \n",
    "\n",
    "# # Create a dictionary with keys as vowels and values initialized to zero\n",
    "# count_vowels = dict.fromkeys(\"aeiou\", 0)  \n",
    "\n",
    "# # For each vowel key in dictionary count number of occurances in string\n",
    "# for key in count_vowels.keys():\n",
    "#     count_vowels[key] = str.count(key)\n",
    "    \n",
    "# print(count_vowels)\n"
   ]
  },
  {
   "cell_type": "markdown",
   "metadata": {},
   "source": [
    "## Challenge 2: Fibonnaci Sequence\n",
    "\n",
    "In mathematics, the Fibonacci numbers, commonly denoted by $Fn$, form a sequence, called the Fibonacci sequence, such that each number is the sum of the two preceding ones, starting from 0 and 1. That is\n",
    "\n",
    "$$ F_{0}=0,\\quad F_{1}=1$$\n",
    "\n",
    "and\n",
    "\n",
    "$$ F_{n}=F_{n-1}+F_{n-2} \\quad :for \\ n>1$$\n",
    "\n",
    "\n",
    "The beginning of the sequence is thus:\n",
    "\n",
    "0,1,1,2,3,5,8,13,21,34,55,....\n",
    "\n",
    "\n",
    "**Write a python program that will print first n(user defined) finonnaci numbers** \n"
   ]
  },
  {
   "cell_type": "code",
   "execution_count": 118,
   "metadata": {},
   "outputs": [
    {
     "name": "stdout",
     "output_type": "stream",
     "text": [
      "-10\n",
      "Enter positive number\n"
     ]
    }
   ],
   "source": [
    "# def Fn(n):\n",
    "#     if  n == 0:\n",
    "#         return 0\n",
    "#     if  n == 1:\n",
    "#         return 1\n",
    "#     if(n > 1):\n",
    "#         return Fn(n-1) + Fn(n-2)\n",
    "#     else:\n",
    "#         print(\"Number should be a natural\")\n",
    "#         return None\n",
    "\n",
    "# n = input()\n",
    "# try:\n",
    "#     n = int(n)\n",
    "#     for i in range(0, n):\n",
    "#         print(Fn(i), end=\", \")\n",
    "# except Exception as e:\n",
    "#     print(e)\n",
    "\n",
    "    \n",
    "    \n",
    "## Method to smartly persist already calculated fn value\n",
    "\n",
    "# def Fn2(n, result):\n",
    "#     if  n == 0:\n",
    "#         result[\"seq\"][0] = 0\n",
    "#         return {\"currVal\": 0, \"seq\": result[\"seq\"]}\n",
    "#     if n == 1:\n",
    "#         result[\"seq\"][1] = 1\n",
    "#         return {\"currVal\": 1, \"seq\": result[\"seq\"]}\n",
    "#     if(n > 1):\n",
    "#         if n-2 < 0:\n",
    "#             return {\"seq\": result[\"seq\"]}\n",
    "#         nm1 = Fn2(n-1, {\"seq\": result[\"seq\"]})\n",
    "#         result[\"seq\"][n-1] = nm1[\"currVal\"]\n",
    "#         nm2 = Fn2(n-2, {\"seq\": result[\"seq\"]})\n",
    "#         result[\"seq\"][n-2] = nm2[\"currVal\"]\n",
    "#         fns = nm1[\"currVal\"] + nm2[\"currVal\"]\n",
    "#         result[\"seq\"][n] = fns\n",
    "#         return {\"currVal\": fns, \"seq\": result[\"seq\"]}\n",
    "    \n",
    "\n",
    "# try:\n",
    "#     n = int(n)\n",
    "#     print(\"Fibonnaci Sequence for\", n, \" is \", Fn2(n, {\"seq\":  {}}))\n",
    "# except Exception as e:\n",
    "#     print(e)\n",
    "\n",
    "\n",
    "list = [0, 1]\n",
    "terms = input()\n",
    "try:\n",
    "    terms = int(terms)\n",
    "    if(terms < 0):\n",
    "        raise Exception(\"Enter positive number\")\n",
    "    while len(list) < terms:\n",
    "        n = list[-1] + list[-2]\n",
    "        list.append(n)\n",
    "    print(list)\n",
    "        \n",
    "except Exception as e:\n",
    "    print(e)\n",
    "\n",
    "\n"
   ]
  },
  {
   "cell_type": "markdown",
   "metadata": {},
   "source": [
    "## Challenge 3: Remove duplicate\n",
    "\n",
    "Write a script to remove duplicate entries by comparing two lists\n",
    "\n",
    "list_1 = [23,43,53,63,73,83,93]\n",
    "\n",
    "list_2 = [22,42,53,63,72,82,92]"
   ]
  },
  {
   "cell_type": "code",
   "execution_count": 121,
   "metadata": {},
   "outputs": [
    {
     "name": "stdout",
     "output_type": "stream",
     "text": [
      "[23, 43, 73, 83, 93]\n",
      "[22, 42, 72, 82, 92]\n"
     ]
    }
   ],
   "source": [
    "list_1 = [23,43,53,63,73,83,93]\n",
    "list_2 = [22,42,53,63,72,82,92]\n",
    "\n",
    "\n",
    "duplicates = set(list_1).intersection(set(list_2))\n",
    "\n",
    "for i in duplicates:\n",
    "    list_1.remove(i)\n",
    "    list_2.remove(i)    \n",
    "\n",
    "print(list_1)\n",
    "print(list_2)\n"
   ]
  },
  {
   "cell_type": "markdown",
   "metadata": {},
   "source": [
    "## Challenge 4: Encode your message\n",
    "\n",
    "Write a Python program to encrypt a string such that every character is replaced by its next character in alphabets.\n",
    "\n",
    "For ex:\n",
    "\n",
    "data -> ebub\n",
    "\n",
    "## abcdefghijklmnopqrstuvwxyz\n",
    "\n",
    "## bcdefghijklmnopqrstuvwxyza"
   ]
  },
  {
   "cell_type": "code",
   "execution_count": 123,
   "metadata": {},
   "outputs": [
    {
     "name": "stdout",
     "output_type": "stream",
     "text": [
      "pranav\n",
      "qsbobw\n"
     ]
    }
   ],
   "source": [
    "# encoder\n",
    "\n",
    "def encode(msg, step = 1):\n",
    "    encodedMsg = \"\"\n",
    "    chars = \"abcdefghijklmnopqrstuvwxyz\"\n",
    "    for c in msg:\n",
    "        if c in chars:\n",
    "            index = chars.index(c)\n",
    "            if index == len(chars) - 1:\n",
    "                index = -1\n",
    "            encodedMsg += chars[index + step]\n",
    "        else:\n",
    "            encodedMsg[i] += c\n",
    "    return encodedMsg\n",
    "\n",
    "msg = input()\n",
    "print(encode(msg))\n",
    "\n",
    "\n",
    "# original_string = \"this Z is a 51 (0) Stringz *\"\n",
    "# encoded_string = \"\"\n",
    "# for char in original_string:\n",
    "#     if char.isalpha():\n",
    "#         if char == 'z':\n",
    "#             encoded_string += 'a'\n",
    "#         elif char == 'Z':\n",
    "#             encoded_string += 'A'\n",
    "#         else:\n",
    "#             encoded_string += chr(ord(char) + 1)\n",
    "#     else:\n",
    "#         encoded_string += char\n",
    "\n",
    "# print(\"str = \", original_string)\n",
    "# print(\"encoded_string = \", encoded_string)\n",
    "\n"
   ]
  },
  {
   "cell_type": "code",
   "execution_count": null,
   "metadata": {},
   "outputs": [],
   "source": [
    "# decoder\n",
    "def decode(enMsg, step = 1):\n",
    "    decodedMsg = \"\"\n",
    "    chars = \"abcdefghijklmnopqrstuvwxyz\"\n",
    "    for c in msg:\n",
    "        if c in chars:\n",
    "            index = chars.index(c)\n",
    "            if index == 0:\n",
    "                index = len(chars) - 1\n",
    "            decodedMsg[i] += chars[index - step]\n",
    "        else:\n",
    "            decodedMsg[i] += c\n",
    "    return \"\".join(decodedMsg)\n",
    "\n",
    "msg = input()\n",
    "\n",
    "print(decode(msg))"
   ]
  },
  {
   "cell_type": "code",
   "execution_count": null,
   "metadata": {},
   "outputs": [],
   "source": []
  },
  {
   "cell_type": "code",
   "execution_count": null,
   "metadata": {},
   "outputs": [],
   "source": []
  },
  {
   "cell_type": "code",
   "execution_count": null,
   "metadata": {},
   "outputs": [],
   "source": []
  }
 ],
 "metadata": {
  "interpreter": {
   "hash": "6e67aef3cd0fd690e1c9d851877077433c00463fdf640d73456bfa2dcffcaa5e"
  },
  "kernelspec": {
   "display_name": "Python 3",
   "language": "python",
   "name": "python3"
  },
  "language_info": {
   "codemirror_mode": {
    "name": "ipython",
    "version": 3
   },
   "file_extension": ".py",
   "mimetype": "text/x-python",
   "name": "python",
   "nbconvert_exporter": "python",
   "pygments_lexer": "ipython3",
   "version": "3.8.3"
  }
 },
 "nbformat": 4,
 "nbformat_minor": 4
}
