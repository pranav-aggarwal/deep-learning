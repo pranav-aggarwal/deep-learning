{
 "cells": [
  {
   "cell_type": "markdown",
   "metadata": {},
   "source": [
    "# Session 2 : Advanced Constructs in Python & NumPy\n",
    "\n",
    "Agenda\n",
    " - Functions in Python\n",
    " - Lambda functions\n",
    " - Introdcution to Arrays\n",
    " - Array indexing, slicing, and filtering\n",
    " - Application of array processing in image processing\n",
    "\n",
    "## Functions in Python\n",
    "We have been using Functions in Python. Example `print()` is a function using which we can print any data on the screen. `print()` is an inbuilt Python function.\n",
    "\n",
    "Similarly we can define our own functions which would take a certain `input` and generate a specific `output`. Functions helps us when we want to use same piece of code in different scenarios. Following examples will help you understand the crux."
   ]
  },
  {
   "cell_type": "code",
   "execution_count": 4,
   "metadata": {},
   "outputs": [
    {
     "name": "stdout",
     "output_type": "stream",
     "text": [
      "34.56\n"
     ]
    },
    {
     "ename": "TypeError",
     "evalue": "unsupported operand type(s) for ** or pow(): 'str' and 'int'",
     "output_type": "error",
     "traceback": [
      "\u001b[0;31m---------------------------------------------------------------------------\u001b[0m",
      "\u001b[0;31mTypeError\u001b[0m                                 Traceback (most recent call last)",
      "\u001b[0;32m<ipython-input-4-afd6ac063702>\u001b[0m in \u001b[0;36m<module>\u001b[0;34m\u001b[0m\n\u001b[1;32m      8\u001b[0m \u001b[0mn\u001b[0m \u001b[0;34m=\u001b[0m \u001b[0minput\u001b[0m\u001b[0;34m(\u001b[0m\u001b[0;34m)\u001b[0m\u001b[0;34m\u001b[0m\u001b[0;34m\u001b[0m\u001b[0m\n\u001b[1;32m      9\u001b[0m \u001b[0;34m\u001b[0m\u001b[0m\n\u001b[0;32m---> 10\u001b[0;31m \u001b[0mprint\u001b[0m\u001b[0;34m(\u001b[0m\u001b[0msquare\u001b[0m\u001b[0;34m(\u001b[0m\u001b[0mn\u001b[0m\u001b[0;34m)\u001b[0m\u001b[0;34m)\u001b[0m\u001b[0;34m\u001b[0m\u001b[0;34m\u001b[0m\u001b[0m\n\u001b[0m",
      "\u001b[0;32m<ipython-input-4-afd6ac063702>\u001b[0m in \u001b[0;36msquare\u001b[0;34m(n)\u001b[0m\n\u001b[1;32m      4\u001b[0m \u001b[0;32mdef\u001b[0m \u001b[0msquare\u001b[0m\u001b[0;34m(\u001b[0m\u001b[0mn\u001b[0m\u001b[0;34m)\u001b[0m\u001b[0;34m:\u001b[0m\u001b[0;34m\u001b[0m\u001b[0;34m\u001b[0m\u001b[0m\n\u001b[1;32m      5\u001b[0m     \u001b[0;31m# This function calculates square of number\u001b[0m\u001b[0;34m\u001b[0m\u001b[0;34m\u001b[0m\u001b[0;34m\u001b[0m\u001b[0m\n\u001b[0;32m----> 6\u001b[0;31m     \u001b[0;32mreturn\u001b[0m \u001b[0mn\u001b[0m\u001b[0;34m**\u001b[0m\u001b[0;36m2\u001b[0m\u001b[0;34m\u001b[0m\u001b[0;34m\u001b[0m\u001b[0m\n\u001b[0m\u001b[1;32m      7\u001b[0m \u001b[0;34m\u001b[0m\u001b[0m\n\u001b[1;32m      8\u001b[0m \u001b[0mn\u001b[0m \u001b[0;34m=\u001b[0m \u001b[0minput\u001b[0m\u001b[0;34m(\u001b[0m\u001b[0;34m)\u001b[0m\u001b[0;34m\u001b[0m\u001b[0;34m\u001b[0m\u001b[0m\n",
      "\u001b[0;31mTypeError\u001b[0m: unsupported operand type(s) for ** or pow(): 'str' and 'int'"
     ]
    }
   ],
   "source": [
    "# to start with write a function that calculates square of a number\n",
    "# print the output and the documentation\n",
    "\n",
    "def square(n):\n",
    "    # This function calculates square of number\n",
    "    return n**2\n",
    "\n",
    "n = int(input())\n",
    "\n",
    "print(square(n))\n"
   ]
  },
  {
   "cell_type": "code",
   "execution_count": 9,
   "metadata": {},
   "outputs": [
    {
     "name": "stdout",
     "output_type": "stream",
     "text": [
      "8\n",
      "8  X  0  =  0\n",
      "8  X  1  =  8\n",
      "8  X  2  =  16\n",
      "8  X  3  =  24\n",
      "8  X  4  =  32\n",
      "8  X  5  =  40\n",
      "8  X  6  =  48\n",
      "8  X  7  =  56\n",
      "8  X  8  =  64\n",
      "8  X  9  =  72\n",
      "8  X  10  =  80\n"
     ]
    }
   ],
   "source": [
    "# let us now move on to creating some complex function\n",
    "# let us create a function to print tables\n",
    "\n",
    "def table(n, limit=10):\n",
    "    for i in range(0, limit+1):\n",
    "        print(n, \" X \", i, \" = \", n*i)\n",
    "\n",
    "n = int(input())\n",
    "\n",
    "table(n)\n",
    "\n",
    "\n"
   ]
  },
  {
   "cell_type": "code",
   "execution_count": 3,
   "metadata": {},
   "outputs": [],
   "source": [
    "# scope of the variable\n",
    "# a variable defined inside a function cannot be accessed from outside the function\n",
    "# but a variable defined outside a function can be accessed from inside the function\n"
   ]
  },
  {
   "cell_type": "markdown",
   "metadata": {},
   "source": [
    "## Lambda Functions\n",
    "\n",
    "Lambda function is a small anonymous function in the form\n",
    "\n",
    "lambda arguments : expression"
   ]
  },
  {
   "cell_type": "code",
   "execution_count": 11,
   "metadata": {},
   "outputs": [
    {
     "data": {
      "text/plain": [
       "529"
      ]
     },
     "execution_count": 11,
     "metadata": {},
     "output_type": "execute_result"
    }
   ],
   "source": [
    "# lambda function to calculate square of a number\n",
    "\n",
    "square = lambda x:x*x\n",
    "\n",
    "square(23)"
   ]
  },
  {
   "cell_type": "code",
   "execution_count": 12,
   "metadata": {},
   "outputs": [
    {
     "data": {
      "text/plain": [
       "-6"
      ]
     },
     "execution_count": 12,
     "metadata": {},
     "output_type": "execute_result"
    }
   ],
   "source": [
    "# lambda function to multiply three numbers\n",
    "multiply = lambda a,b,c:  a*b*c\n",
    "\n",
    "multiply(2, -1, 3)"
   ]
  },
  {
   "cell_type": "markdown",
   "metadata": {},
   "source": [
    "## NumPy for Data Science\n",
    "\n",
    "NumPy (Numerical Python) is an open source Python library that’s used in almost every field of science and engineering. It’s the universal standard for working with numerical data in Python.\n",
    "\n",
    "Anaconda installation comes with NumPy pre-installed."
   ]
  },
  {
   "cell_type": "code",
   "execution_count": 5,
   "metadata": {},
   "outputs": [
    {
     "data": {
      "text/plain": [
       "'1.18.5'"
      ]
     },
     "execution_count": 5,
     "metadata": {},
     "output_type": "execute_result"
    }
   ],
   "source": [
    "# check by importing numpy\n",
    "import numpy as np\n",
    "\n",
    "# check the version of numpy\n",
    "np.__version__"
   ]
  },
  {
   "cell_type": "markdown",
   "metadata": {},
   "source": [
    "## NumPy arrays\n",
    "\n",
    "NumPy’s main object is the homogeneous multidimensional array. It is a table of elements (usually numbers), all of the same type, indexed by a tuple of non-negative integers. In NumPy dimensions are called axes.\n",
    "\n",
    "\n",
    "<img src = \"https://fgnt.github.io/python_crashkurs_doc/_images/numpy_array_t.png\" width=400 height=400>\n",
    "\n",
    "<a href=\"https://www.oreilly.com/library/view/elegant-scipy/9781491922927/ch01.html\">Image Source</a>\n",
    "\n"
   ]
  },
  {
   "cell_type": "markdown",
   "metadata": {},
   "source": [
    "## Data Types\n",
    "\n",
    "Data types supported by NumPy are\n",
    "\n",
    " - Integers: `np.int8`, `np.int16`, `np.int32`, `np.int64`, `np.uint8`, …\n",
    " - Float: `np.float16`, `np.float32`, `np.float64`, …\n",
    " - Complex: `np.complex64 (single precision)`, `np.complex128 (double precision)`, …\n",
    " - Boolean: `np.bool8`\n",
    " - default type: `np.float64`\n",
    " \n",
    "Complete list of all the data types supported by NumPy can be accessed from the <a href=\"https://numpy.org/doc/stable/user/basics.types.html\">documentation</a>"
   ]
  },
  {
   "cell_type": "markdown",
   "metadata": {},
   "source": [
    "## Array Indexing, Slicing and Filtering\n",
    "\n",
    "[start:end:step]"
   ]
  },
  {
   "cell_type": "code",
   "execution_count": 9,
   "metadata": {},
   "outputs": [
    {
     "name": "stdout",
     "output_type": "stream",
     "text": [
      "[[0 0 1 ... 3 0 0]\n",
      " [0 1 2 ... 1 0 1]\n",
      " [0 1 1 ... 2 1 1]\n",
      " ...\n",
      " [0 1 1 ... 1 1 1]\n",
      " [0 0 0 ... 0 2 0]\n",
      " [0 0 1 ... 1 1 0]]\n"
     ]
    }
   ],
   "source": [
    "# load the data from patient_data.csv\n",
    "data = np.loadtxt(fname='patient_data.csv', delimiter=',', dtype=np.int8)\n",
    "print(data)"
   ]
  },
  {
   "cell_type": "code",
   "execution_count": 10,
   "metadata": {},
   "outputs": [
    {
     "name": "stdout",
     "output_type": "stream",
     "text": [
      "int8\n",
      "(60, 40)\n"
     ]
    }
   ],
   "source": [
    "# print dtype and shape of the dataset\n",
    "print(data.dtype)\n",
    "print(data.shape)      #(60,40) data of 60 patients for 40 days "
   ]
  },
  {
   "cell_type": "code",
   "execution_count": 14,
   "metadata": {},
   "outputs": [
    {
     "name": "stdout",
     "output_type": "stream",
     "text": [
      "first element 0\n"
     ]
    }
   ],
   "source": [
    "# let us take a look at how we can refer to elements in arrays using index\n",
    "# first element in the array is\n",
    "print(\"first element\", data[0,0])\n",
    "print(\"first row\", data[0])"
   ]
  },
  {
   "cell_type": "code",
   "execution_count": 15,
   "metadata": {},
   "outputs": [
    {
     "name": "stdout",
     "output_type": "stream",
     "text": [
      "first for rows [[ 0  0  1  3  1  2  4  7  8  3  3  3 10  5  7  4  7  7 12 18  6 13 11 11\n",
      "   7  7  4  6  8  8  4  4  5  7  3  4  2  3  0  0]\n",
      " [ 0  1  2  1  2  1  3  2  2  6 10 11  5  9  4  4  7 16  8  6 18  4 12  5\n",
      "  12  7 11  5 11  3  3  5  4  4  5  5  1  1  0  1]\n",
      " [ 0  1  1  3  3  2  6  2  5  9  5  7  4  5  4 15  5 11  9 10 19 14 12 17\n",
      "   7 12 11  7  4  2 10  5  4  2  2  3  2  2  1  1]\n",
      " [ 0  0  2  0  4  2  2  1  6  7 10  7  9 13  8  8 15 10 10  7 17  4  4  7\n",
      "   6 15  6  4  9 11  3  5  6  3  3  4  2  3  2  1]]\n"
     ]
    }
   ],
   "source": [
    "# suppose we want data for only first 4 patients\n",
    "print(\"first for rows\", data[:4]) #data[0:4, 0:7]\n"
   ]
  },
  {
   "cell_type": "code",
   "execution_count": 21,
   "metadata": {},
   "outputs": [
    {
     "name": "stdout",
     "output_type": "stream",
     "text": [
      "first for rows [[0 0 1 3 1 2 4]\n",
      " [0 1 2 1 2 1 3]\n",
      " [0 1 1 3 3 2 6]\n",
      " [0 0 2 0 4 2 2]\n",
      " [0 1 1 3 3 1 3]\n",
      " [0 0 1 2 2 4 2]\n",
      " [0 0 2 2 4 2 2]\n",
      " [0 0 1 2 3 1 2]\n",
      " [0 0 0 3 1 5 6]\n",
      " [0 1 1 2 1 3 5]\n",
      " [0 1 0 0 4 3 3]\n",
      " [0 1 0 0 3 4 2]\n",
      " [0 0 2 1 4 3 6]\n",
      " [0 0 0 0 1 3 1]\n",
      " [0 1 2 1 1 1 4]\n",
      " [0 1 1 0 1 2 4]\n",
      " [0 0 0 0 2 3 6]\n",
      " [0 0 0 1 2 1 4]\n",
      " [0 0 2 1 2 5 4]\n",
      " [0 1 2 0 1 4 3]\n",
      " [0 1 1 3 1 4 4]\n",
      " [0 0 2 3 2 3 2]\n",
      " [0 0 0 3 4 5 1]\n",
      " [0 1 1 1 1 3 3]\n",
      " [0 1 1 1 2 3 5]\n",
      " [0 0 2 1 3 3 2]\n",
      " [0 0 1 2 4 2 2]\n",
      " [0 0 1 1 1 5 1]\n",
      " [0 0 2 2 3 4 6]\n",
      " [0 0 0 1 4 4 6]\n",
      " [0 1 1 0 3 2 4]\n",
      " [0 0 2 3 3 4 5]\n",
      " [0 1 2 2 2 3 6]\n",
      " [0 0 2 1 3 5 6]\n",
      " [0 0 1 2 4 1 5]\n",
      " [0 0 0 3 1 3 6]\n",
      " [0 1 2 2 2 5 5]\n",
      " [0 1 1 2 3 1 5]\n",
      " [0 1 0 3 2 4 1]\n",
      " [0 1 1 3 1 1 5]\n",
      " [0 0 0 2 2 1 3]\n",
      " [0 0 1 3 3 1 2]\n",
      " [0 1 1 3 4 5 2]\n",
      " [0 0 1 3 1 4 3]\n",
      " [0 1 1 3 3 4 4]\n",
      " [0 1 2 2 4 3 1]\n",
      " [0 0 2 3 4 5 4]\n",
      " [0 1 1 3 1 4 6]\n",
      " [0 0 1 3 2 5 1]\n",
      " [0 0 1 2 3 4 5]\n",
      " [0 1 2 1 1 3 5]\n",
      " [0 1 2 2 3 5 2]\n",
      " [0 0 0 2 4 4 5]\n",
      " [0 0 2 1 1 4 4]\n",
      " [0 1 2 1 1 4 5]\n",
      " [0 0 1 3 2 3 6]\n",
      " [0 1 1 2 2 5 1]\n",
      " [0 1 1 1 4 1 6]\n",
      " [0 0 0 1 4 5 6]\n",
      " [0 0 1 0 3 2 5]]\n"
     ]
    }
   ],
   "source": [
    "# data of all the patients for first week\n",
    "dataFirstWeek = data[:, 0:7]\n",
    "print(\"first for rows\", dataFirstWeek)"
   ]
  },
  {
   "cell_type": "code",
   "execution_count": 25,
   "metadata": {},
   "outputs": [
    {
     "data": {
      "text/plain": [
       "array([3, 4, 3, 3, 3, 6, 4, 3, 3, 3, 4, 4, 3, 3, 5, 6, 3, 5, 4, 3, 3, 3,\n",
       "       4, 4, 3, 6, 3, 4, 4, 3, 6, 4, 5, 4, 4, 3, 3, 4, 4, 3, 3, 3, 4, 5,\n",
       "       3, 3, 3, 5, 3, 3, 4, 5, 3, 4, 6, 4, 4, 6, 3, 4, 3, 3, 4, 5, 3, 6,\n",
       "       3, 5, 6, 4, 5, 3, 3, 6, 5, 5, 3, 5, 3, 4, 3, 5, 3, 3, 3, 3, 4, 5,\n",
       "       3, 4, 3, 3, 3, 4, 4, 4, 3, 3, 4, 5, 4, 3, 4, 6, 3, 5, 3, 4, 5, 3,\n",
       "       5, 3, 5, 4, 4, 5, 4, 4, 4, 5, 3, 3, 6, 5, 4, 6, 4, 5, 6, 3, 5],\n",
       "      dtype=int8)"
      ]
     },
     "execution_count": 25,
     "metadata": {},
     "output_type": "execute_result"
    }
   ],
   "source": [
    "# filtering is used to get specific values from an array\n",
    "# suppose we want only the readings above 10 for all the patients\n",
    "data > 10 # gives array of array that contains the boolean result of the given condition\n",
    "data[data > 10]"
   ]
  },
  {
   "cell_type": "markdown",
   "metadata": {},
   "source": [
    "## Real life application of NumPy in Image Processing\n",
    "\n",
    "\n",
    "<img src = \"https://datacarpentry.org/image-processing/fig/02-chair-layers-rgb.png\" height = 400 width=400>"
   ]
  },
  {
   "cell_type": "markdown",
   "metadata": {},
   "source": [
    "<img src=\"sunflower.jpg\" width=256 heigth=256>"
   ]
  },
  {
   "cell_type": "code",
   "execution_count": 33,
   "metadata": {},
   "outputs": [
    {
     "name": "stdout",
     "output_type": "stream",
     "text": [
      "[[8 7 6 5 4 5 5 6 4 5]\n",
      " [7 6 5 5 4 5 6 6 4 4]\n",
      " [6 6 6 5 5 5 5 5 3 4]\n",
      " [6 6 6 6 5 5 4 3 3 3]\n",
      " [6 6 6 6 5 4 4 3 2 3]\n",
      " [3 5 5 5 5 5 5 5 2 3]\n",
      " [4 4 6 6 5 4 5 5 2 3]\n",
      " [8 7 5 6 4 3 3 3 2 3]\n",
      " [7 6 5 5 4 3 3 3 1 2]\n",
      " [7 6 5 3 4 3 4 3 2 3]]\n"
     ]
    }
   ],
   "source": [
    "# import pillow library for loading image as numpy array\n",
    "#Any image file is 3D array, length and width depends on the resolutiuon of the array\n",
    "from PIL import Image\n",
    "\n",
    "\n",
    "im = np.array(Image.open('sunflower.jpeg'))\n",
    "print(im[0:10,0:10,0])"
   ]
  },
  {
   "cell_type": "code",
   "execution_count": 32,
   "metadata": {},
   "outputs": [
    {
     "data": {
      "text/plain": [
       "(856, 1280, 3)"
      ]
     },
     "execution_count": 32,
     "metadata": {},
     "output_type": "execute_result"
    }
   ],
   "source": [
    "# shape of the array, image\n",
    "im.shape"
   ]
  },
  {
   "cell_type": "code",
   "execution_count": 40,
   "metadata": {},
   "outputs": [],
   "source": [
    "# compress the image\n",
    "im_compress = im.copy()\n",
    "im_compress = im_compress[::2,::2]\n",
    "Image.fromarray(im_compress).save('compress_sunflower.jpg')"
   ]
  },
  {
   "cell_type": "code",
   "execution_count": 43,
   "metadata": {},
   "outputs": [],
   "source": [
    "# crop an image\n",
    "im_crop = im.copy()\n",
    "im_crop = im_crop[0:800, 200:1024]\n",
    "Image.fromarray(im_crop).save('crop_sunflower.jpg')\n"
   ]
  },
  {
   "cell_type": "code",
   "execution_count": 44,
   "metadata": {},
   "outputs": [],
   "source": [
    "# rotate image, np.rot90\n",
    "im_rot = im.copy()\n",
    "im_rot= np.rot90(im_rot)\n",
    "Image.fromarray(im_rot).save('rotate_sunflower.jpg')"
   ]
  },
  {
   "cell_type": "code",
   "execution_count": 49,
   "metadata": {},
   "outputs": [],
   "source": [
    "# extract red color image\n",
    "im_red = im.copy()\n",
    "im_red[:,:,(1,2)] = 0\n",
    "\n",
    "Image.fromarray(im_red).save('redlayer_sunflower.jpg')\n",
    "\n",
    "im_blue = im.copy()\n",
    "im_blue[:,:,(0,1)] = 0\n",
    "Image.fromarray(im_blue).save('bluelayer_sunflower.jpg')\n",
    "\n",
    "\n",
    "im_green = im.copy()\n",
    "im_green[:,:,(0,2)] = 0\n",
    "Image.fromarray(im_green).save('greenlayer_sunflower.jpg')"
   ]
  },
  {
   "cell_type": "code",
   "execution_count": 51,
   "metadata": {},
   "outputs": [],
   "source": [
    "# grescale image\n",
    "weights = [0.2989, 0.5870, 0.1140]\n",
    "im_gs = im.copy()\n",
    "im_gs = np.dot(im_gs, weights)\n",
    "im_gs.shape\n",
    "Image.fromarray(im_gs).convert('RGB').save('gs_sunflower.jpg')"
   ]
  },
  {
   "cell_type": "code",
   "execution_count": 60,
   "metadata": {},
   "outputs": [
    {
     "data": {
      "text/plain": [
       "[12544, 33076161, 49284, 186624, 334084, 1004004, 34965783, 781456]"
      ]
     },
     "execution_count": 60,
     "metadata": {},
     "output_type": "execute_result"
    }
   ],
   "source": [
    "#List comprehension \n",
    "all_numbers = [112, 321, 222, 432, 578, 1002, 327,884]\n",
    "\n",
    "#square of all numbers \n",
    "squares = [x**2 for x in all_numbers]\n",
    "squares\n",
    "#square of all even numbers\n",
    "squares_even = [x**2 for x in all_numbers if x%2==0]\n",
    "squares_even\n",
    "\n",
    "#square if an even number cube if an odd\n",
    "new_list = [x**2 if x%2==0 else x**3 for x in all_numbers]\n",
    "new_list"
   ]
  },
  {
   "cell_type": "code",
   "execution_count": 62,
   "metadata": {},
   "outputs": [
    {
     "name": "stdout",
     "output_type": "stream",
     "text": [
      "{1: 1, 2: 4, 3: 9, 4: 16, 5: 25, 6: 36, 7: 49, 8: 64, 9: 81, 10: 100}\n",
      "{'milk': 0.7752, 'coffee': 1.9, 'bread': 1.9}\n"
     ]
    }
   ],
   "source": [
    "#Dictionary Comprehension \n",
    "# dictionary comprehension example\n",
    "square_dict = {num: num*num for num in range(1, 11)}\n",
    "print(square_dict)\n",
    "\n",
    "\n",
    "#item price in dollars\n",
    "old_price = {'milk': 1.02, 'coffee': 2.5, 'bread': 2.5}\n",
    "s\n",
    "dollar_to_pound = 0.76\n",
    "new_price = {item: value*dollar_to_pound for (item, value) in old_price.items()}\n",
    "print(new_price)\n"
   ]
  },
  {
   "cell_type": "code",
   "execution_count": null,
   "metadata": {},
   "outputs": [],
   "source": []
  },
  {
   "cell_type": "code",
   "execution_count": null,
   "metadata": {},
   "outputs": [],
   "source": []
  }
 ],
 "metadata": {
  "kernelspec": {
   "display_name": "Python 3",
   "language": "python",
   "name": "python3"
  },
  "language_info": {
   "codemirror_mode": {
    "name": "ipython",
    "version": 3
   },
   "file_extension": ".py",
   "mimetype": "text/x-python",
   "name": "python",
   "nbconvert_exporter": "python",
   "pygments_lexer": "ipython3",
   "version": "3.8.3"
  }
 },
 "nbformat": 4,
 "nbformat_minor": 4
}
